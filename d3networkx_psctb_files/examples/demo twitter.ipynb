{
 "cells": [
  {
   "cell_type": "code",
   "execution_count": null,
   "metadata": {
    "collapsed": false
   },
   "outputs": [],
   "source": [
    "from IPython.html import widgets\n",
    "from IPython.display import display\n",
    "from d3networkx import ForceDirectedGraph, EventfulGraph"
   ]
  },
  {
   "cell_type": "markdown",
   "metadata": {},
   "source": [
    "## Twitter Tweet Watcher"
   ]
  },
  {
   "cell_type": "markdown",
   "metadata": {},
   "source": [
    "This example requires the Python \"twitter\" library to be installed (https://github.com/sixohsix/twitter).  You can install Python  twitter by running `sudo pip install twitter` from the terminal/commandline."
   ]
  },
  {
   "cell_type": "code",
   "execution_count": null,
   "metadata": {
    "collapsed": false
   },
   "outputs": [],
   "source": [
    "from twitter import *\n",
    "import time, datetime\n",
    "import math\n",
    "\n",
    "twitter_timestamp_format = \"%a %b %d %X +0000 %Y\""
   ]
  },
  {
   "cell_type": "code",
   "execution_count": null,
   "metadata": {
    "collapsed": false
   },
   "outputs": [],
   "source": [
    "# Sign on to twitter.\n",
    "auth = OAuth(\n",
    "    consumer_key='iQvYfTfuD86fgVWGjPY0UA',\n",
    "    consumer_secret='C3jjP6vzYzTYoHV4s5NYPGuRkpT5SulKRKTkRmYg',\n",
    "    token='2218195843-cOPQa0D1Yk3JbvjvsCa0tIYzBOEWxINekmGcEql',\n",
    "    token_secret='3BFncT1zAvJRN6rj8haCxveZVLZWZ23QeulxzByXWlfoO'\n",
    ")\n",
    "twitter = Twitter(auth = auth)\n",
    "twitter_stream = TwitterStream(auth = auth, block = False)"
   ]
  },
  {
   "cell_type": "code",
   "execution_count": null,
   "metadata": {
    "collapsed": false
   },
   "outputs": [],
   "source": [
    "graph = EventfulGraph()\n",
    "d3 = ForceDirectedGraph(graph)\n",
    "d3.width = 600\n",
    "d3.height = 400\n",
    "\n",
    "stop_button = widgets.Button(description=\"Stop\")\n",
    "        \n",
    "# Only listen to tweets while they are available and the user\n",
    "# doesn't want to stop.\n",
    "stop_listening = [False]\n",
    "def handle_stop(sender):\n",
    "    stop_listening[0] = True\n",
    "    print(\"Service stopped\")\n",
    "stop_button.on_click(handle_stop)\n",
    "\n",
    "def watch_tweets(screen_name=None):\n",
    "    display(d3)\n",
    "    display(stop_button)\n",
    "    graph.node.clear()\n",
    "    graph.adj.clear()\n",
    "    start_timestamp = None\n",
    "    stop_button._dom_classes = ['btn', 'btn-danger']\n",
    "    \n",
    "    # Get Barack's tweets\n",
    "    tweets = twitter.statuses.user_timeline(screen_name=screen_name)\n",
    "    user_id = twitter.users.lookup(screen_name=screen_name)[0]['id']\n",
    "    \n",
    "    # Determine the maximum number of retweets.\n",
    "    max_retweets = 0.0\n",
    "    for tweet in tweets:\n",
    "        max_retweets = float(max(tweet['retweet_count'], max_retweets))\n",
    "        \n",
    "    \n",
    "    def plot_tweet(tweet, parent=None, elapsed_seconds=1.0, color=\"gold\"):\n",
    "        new_id = tweet['id']\n",
    "        graph.add_node(\n",
    "            new_id, \n",
    "            r=max(float(tweet['retweet_count']) / max_retweets * 30.0, 3.0),\n",
    "            charge=-60,\n",
    "            fill = color,\n",
    "        )\n",
    "        \n",
    "        if parent is not None:\n",
    "            parent_radius = max(float(parent['retweet_count']) / max_retweets * 30.0, 3.0)\n",
    "            graph.node[parent['id']]['r'] = parent_radius\n",
    "            \n",
    "            graph.add_edge(new_id, parent['id'], distance=math.log(elapsed_seconds) * 9.0 + parent_radius)\n",
    "            graph.node[new_id]['fill'] = 'red'\n",
    "            \n",
    "        \n",
    "    # Plot each tweet.\n",
    "    for tweet in tweets:\n",
    "        plot_tweet(tweet)\n",
    "    \n",
    "    kernel=get_ipython().kernel\n",
    "    iterator = twitter_stream.statuses.filter(follow=user_id)\n",
    "    \n",
    "    while not stop_listening[0]:\n",
    "        kernel.do_one_iteration()\n",
    "        \n",
    "        for tweet in iterator:\n",
    "            kernel.do_one_iteration()\n",
    "            if stop_listening[0] or tweet is None:\n",
    "                break\n",
    "            else:\n",
    "                if 'retweeted_status' in tweet:\n",
    "                    original_tweet = tweet['retweeted_status']\n",
    "                    if original_tweet['id'] in graph.node:\n",
    "                        tweet_timestamp = datetime.datetime.strptime(tweet['created_at'], twitter_timestamp_format) \n",
    "                        if start_timestamp is None:\n",
    "                            start_timestamp = tweet_timestamp\n",
    "                        elapsed_seconds = max((tweet_timestamp - start_timestamp).total_seconds(),1.0)\n",
    "                        \n",
    "                        plot_tweet(tweet, parent=original_tweet, elapsed_seconds=elapsed_seconds)\n",
    "                elif 'id' in tweet:\n",
    "                    plot_tweet(tweet, color='lime')\n"
   ]
  },
  {
   "cell_type": "code",
   "execution_count": null,
   "metadata": {
    "collapsed": false
   },
   "outputs": [],
   "source": [
    "watch_tweets(screen_name=\"justinbieber\")"
   ]
  }
 ],
 "metadata": {
  "kernelspec": {
   "display_name": "Python 2",
   "language": "python",
   "name": "python2"
  },
  "language_info": {
   "codemirror_mode": {
    "name": "ipython",
    "version": 2
   },
   "file_extension": ".py",
   "mimetype": "text/x-python",
   "name": "python",
   "nbconvert_exporter": "python",
   "pygments_lexer": "ipython2",
   "version": "2.7.6"
  }
 },
 "nbformat": 4,
 "nbformat_minor": 0
}
