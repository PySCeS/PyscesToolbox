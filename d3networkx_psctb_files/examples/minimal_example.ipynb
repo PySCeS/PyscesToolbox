{
 "cells": [
  {
   "cell_type": "code",
   "execution_count": 1,
   "metadata": {},
   "outputs": [],
   "source": [
    "import networkx\n",
    "\n",
    "\n",
    "from IPython.display import display\n",
    "from d3networkx_psctb import ForceDirectedGraph, EventfulGraph"
   ]
  },
  {
   "cell_type": "markdown",
   "metadata": {},
   "source": [
    "# Test"
   ]
  },
  {
   "cell_type": "code",
   "execution_count": 2,
   "metadata": {},
   "outputs": [],
   "source": [
    "G = EventfulGraph(sleep=0.05)\n",
    "d3 = ForceDirectedGraph(G)\n",
    "d3.height = 800\n",
    "d3.width = 800"
   ]
  },
  {
   "cell_type": "markdown",
   "metadata": {},
   "source": [
    "The following code creates an animation of some of the plot's properties."
   ]
  },
  {
   "cell_type": "code",
   "execution_count": 3,
   "metadata": {},
   "outputs": [],
   "source": [
    "    SPECIES_NODE = {'fill': \"#FF6138\",\n",
    "                    'stroke': \"#FF6138\",\n",
    "                    'color': 'black',\n",
    "                    'shape': 'circle',\n",
    "                    'dx': -12,\n",
    "                    'dy': -15,\n",
    "                    'font_size': 20,\n",
    "                    'fixed': True,\n",
    "                    'r': 11,\n",
    "                    'strokewidth': '1.5px',\n",
    "                    }"
   ]
  },
  {
   "cell_type": "code",
   "execution_count": 4,
   "metadata": {},
   "outputs": [
    {
     "data": {
      "application/vnd.jupyter.widget-view+json": {
       "model_id": "d274b2e15b3d49b0b883e7a57f63c141",
       "version_major": 2,
       "version_minor": 0
      },
      "text/plain": [
       "ForceDirectedGraph(height=800, strength=0, width=800)"
      ]
     },
     "metadata": {},
     "output_type": "display_data"
    }
   ],
   "source": [
    "display(d3)"
   ]
  },
  {
   "cell_type": "code",
   "execution_count": 5,
   "metadata": {},
   "outputs": [],
   "source": [
    "G.add_node(r'asd',\n",
    "         fill=SPECIES_NODE['fill'],       \n",
    "         stroke=SPECIES_NODE['stroke'],\n",
    "         color=SPECIES_NODE['color'],\n",
    "         shape=SPECIES_NODE['shape'],\n",
    "         label=r'asd',\n",
    "         dx=SPECIES_NODE['dx'],\n",
    "         dy=SPECIES_NODE['dy'],\n",
    "         font_size=SPECIES_NODE['font_size'],\n",
    "         x=\"none\",\n",
    "         y=\"none\",                                          \n",
    "         fixed=SPECIES_NODE['fixed'],\n",
    "         r=SPECIES_NODE['r'],\n",
    "                                          )\n",
    "\n",
    "G.add_node(r'abc',\n",
    "         fill=SPECIES_NODE['fill'],       \n",
    "         stroke=SPECIES_NODE['stroke'],\n",
    "         color=SPECIES_NODE['color'],\n",
    "         shape=SPECIES_NODE['shape'],\n",
    "         label=r'abc',\n",
    "         dx=SPECIES_NODE['dx'],\n",
    "         dy=SPECIES_NODE['dy'],\n",
    "         font_size=SPECIES_NODE['font_size'],\n",
    "         x=\"none\",\n",
    "         y=\"none\",                                          \n",
    "         fixed=SPECIES_NODE['fixed'],\n",
    "         r=SPECIES_NODE['r'],\n",
    "                                          )\n",
    "\n"
   ]
  },
  {
   "cell_type": "code",
   "execution_count": 6,
   "metadata": {},
   "outputs": [
    {
     "data": {
      "text/plain": [
       "{'sleep': 0.05,\n",
       " 'asd': {'fill': '#FF6138',\n",
       "  'stroke': '#FF6138',\n",
       "  'color': 'black',\n",
       "  'shape': 'circle',\n",
       "  'label': 'asd',\n",
       "  'dx': -12,\n",
       "  'dy': -15,\n",
       "  'font_size': 20,\n",
       "  'x': 'none',\n",
       "  'y': 'none',\n",
       "  'fixed': True,\n",
       "  'r': 11},\n",
       " 'abc': {'fill': '#FF6138',\n",
       "  'stroke': '#FF6138',\n",
       "  'color': 'black',\n",
       "  'shape': 'circle',\n",
       "  'label': 'abc',\n",
       "  'dx': -12,\n",
       "  'dy': -15,\n",
       "  'font_size': 20,\n",
       "  'x': 'none',\n",
       "  'y': 'none',\n",
       "  'fixed': True,\n",
       "  'r': 11}}"
      ]
     },
     "execution_count": 6,
     "metadata": {},
     "output_type": "execute_result"
    }
   ],
   "source": [
    "G._node"
   ]
  }
 ],
 "metadata": {
  "kernelspec": {
   "display_name": "Python 3",
   "language": "python",
   "name": "python3"
  },
  "language_info": {
   "codemirror_mode": {
    "name": "ipython",
    "version": 3
   },
   "file_extension": ".py",
   "mimetype": "text/x-python",
   "name": "python",
   "nbconvert_exporter": "python",
   "pygments_lexer": "ipython3",
   "version": "3.8.2"
  }
 },
 "nbformat": 4,
 "nbformat_minor": 1
}
