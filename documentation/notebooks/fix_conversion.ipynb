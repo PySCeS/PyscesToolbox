{
 "cells": [
  {
   "cell_type": "code",
   "execution_count": 21,
   "metadata": {
    "collapsed": false
   },
   "outputs": [],
   "source": [
    "import codecs\n",
    "from os import listdir, path\n",
    "import pypandoc\n",
    "import sys\n",
    "from re import sub\n",
    "import re"
   ]
  },
  {
   "cell_type": "code",
   "execution_count": null,
   "metadata": {
    "collapsed": false
   },
   "outputs": [],
   "source": [
    "def get_rst_file_names():\n",
    "    def ends_with_rst(line):\n",
    "        if line.endswith('.rst'):\n",
    "            return True\n",
    "        else:\n",
    "            return False\n",
    "    return filter(ends_with_rst,listdir(path.curdir))\n",
    "    "
   ]
  },
  {
   "cell_type": "code",
   "execution_count": null,
   "metadata": {
    "collapsed": true
   },
   "outputs": [],
   "source": [
    "def get_lines(file_name):\n",
    "    with codecs.open(file_name,'r', 'utf-8') as f:\n",
    "        lines = f.readlines()\n",
    "    return lines\n",
    "    "
   ]
  },
  {
   "cell_type": "code",
   "execution_count": null,
   "metadata": {
    "collapsed": false
   },
   "outputs": [],
   "source": [
    "def save_lines(lines,file_name):\n",
    "    with codecs.open(file_name,\"w\", \"utf-8\") as f:\n",
    "        f.writelines(lines)"
   ]
  },
  {
   "cell_type": "code",
   "execution_count": null,
   "metadata": {
    "collapsed": true
   },
   "outputs": [],
   "source": [
    "def fix_note_indentation(lines):    \n",
    "    for i, line in enumerate(lines):\n",
    "        if line.startswith('.. note::'):\n",
    "            counter = i\n",
    "            while True:\n",
    "                counter += 1\n",
    "                try:\n",
    "                    if lines[counter] == '\\n':\n",
    "                        break\n",
    "                    else:\n",
    "                        lines[counter] = '          ' + lines[counter]\n",
    "                except:\n",
    "                    break"
   ]
  },
  {
   "cell_type": "code",
   "execution_count": null,
   "metadata": {
    "collapsed": true
   },
   "outputs": [],
   "source": [
    "def remove_endswith(lines, exclude_string = '#ex\\n'):\n",
    "    new_lines = []\n",
    "    for line in lines:\n",
    "        if not line.endswith(exclude_string):\n",
    "            new_lines.append(line)\n",
    "    return new_lines"
   ]
  },
  {
   "cell_type": "code",
   "execution_count": null,
   "metadata": {
    "collapsed": true
   },
   "outputs": [],
   "source": [
    "def remove_startsswith(lines, exclude_string):\n",
    "    new_lines = []\n",
    "    for line in lines:\n",
    "        if not line.startswith(exclude_string):\n",
    "            new_lines.append(line)\n",
    "    return new_lines"
   ]
  },
  {
   "cell_type": "code",
   "execution_count": null,
   "metadata": {
    "collapsed": true
   },
   "outputs": [],
   "source": [
    "def remove_empty_block(lines,block_string):\n",
    "    new_lines = []\n",
    "    for i, line in enumerate(lines):\n",
    "        if line.startswith(block_string) and lines[i+2] == '\\n':\n",
    "            pass\n",
    "        else:\n",
    "            new_lines.append(line)\n",
    "    return new_lines"
   ]
  },
  {
   "cell_type": "code",
   "execution_count": null,
   "metadata": {
    "collapsed": false
   },
   "outputs": [],
   "source": [
    "def replace_in_string(line,to_replace,replacement):\n",
    "    new_string = line\n",
    "    while True:\n",
    "        try:\n",
    "            new_string = line[:line.index(to_replace)] + replacement + \\\n",
    "            line[line.index(to_replace) +  len(to_replace):]\n",
    "            line = new_string\n",
    "        except:\n",
    "            break\n",
    "    return new_string"
   ]
  },
  {
   "cell_type": "code",
   "execution_count": null,
   "metadata": {
    "collapsed": true
   },
   "outputs": [],
   "source": [
    "def replace_in_all(lines, to_replace, replacement):\n",
    "    new_lines = []\n",
    "    for line in lines:\n",
    "        new_lines.append(replace_in_string(line,to_replace,replacement))\n",
    "    return new_lines"
   ]
  },
  {
   "cell_type": "code",
   "execution_count": null,
   "metadata": {
    "collapsed": true
   },
   "outputs": [],
   "source": [
    "def remove_specified_images(lines):\n",
    "    new_lines = []\n",
    "    remove_next = False\n",
    "    for line in lines:\n",
    "        if line.endswith('#remove_next\\n'):\n",
    "            remove_next = True\n",
    "        elif remove_next and line.startswith('.. image'):\n",
    "            remove_next = False\n",
    "        else:\n",
    "            new_lines.append(line)\n",
    "    return new_lines"
   ]
  },
  {
   "cell_type": "code",
   "execution_count": 103,
   "metadata": {
    "collapsed": true
   },
   "outputs": [],
   "source": [
    "def clear_extra_slashes(line):\n",
    "    return line.replace('\\\\\\\\','@@@@').replace('\\\\','').replace('@@@@','\\\\')"
   ]
  },
  {
   "cell_type": "code",
   "execution_count": null,
   "metadata": {
    "collapsed": true
   },
   "outputs": [],
   "source": [
    "def table_math(new_line):\n",
    "    slash_matches = re.findall(r':math:\\\\`(.*?)`', new_line)\n",
    "    for s_m in slash_matches:\n",
    "        s,d = count_slashes(s_m)\n",
    "        s_m_clean = clear_extra_slashes(s_m)\n",
    "        new_line = new_line.replace(':math:\\\\`%s`' % s_m,\n",
    "                                    ':math:`%s` %s%s' % (s_m_clean,s*' ',d*' '))\n",
    "    return new_line\n",
    "    \n",
    "    "
   ]
  },
  {
   "cell_type": "code",
   "execution_count": null,
   "metadata": {
    "collapsed": false
   },
   "outputs": [],
   "source": [
    "def convert_html_tables(lines):\n",
    "    new_lines = []\n",
    "    replace_next = False\n",
    "    for line in lines:\n",
    "        if line.startswith('.. raw:: html'):\n",
    "            replace_next = True\n",
    "        elif replace_next and line != '\\n':\n",
    "            table = line.strip()\n",
    "            new_line = pypandoc.convert(table,to='rst',format='html')\n",
    "            new_line = table_math(new_line)\n",
    "            new_lines.append(new_line)\n",
    "            replace_next = False\n",
    "        else:\n",
    "            new_lines.append(line)\n",
    "    new_lines = [line + '\\n' for line in ''.join(new_lines).splitlines()]\n",
    "    return new_lines\n",
    "\n",
    "        "
   ]
  },
  {
   "cell_type": "code",
   "execution_count": 100,
   "metadata": {
    "collapsed": true
   },
   "outputs": [],
   "source": [
    "def count_slashes(a_string):\n",
    "    doubles = a_string.count('\\\\\\\\')\n",
    "    singles = a_string.count('\\\\') - 2*doubles\n",
    "    return singles,doubles"
   ]
  },
  {
   "cell_type": "code",
   "execution_count": 1,
   "metadata": {
    "collapsed": true
   },
   "outputs": [],
   "source": [
    "def add_in_out(lines):\n",
    "    counter = 0\n",
    "    new_lines = []\n",
    "    for line in lines:\n",
    "        if line.startswith('.. code::'):\n",
    "            counter += 1\n",
    "            line = '``In [%s]:``\\n\\n%s' % (counter,line)            \n",
    "        if line.startswith('.. parsed-literal::'):\n",
    "            line = '``Out[%s]:``\\n\\n%s' % (counter,line)\n",
    "        new_lines.append(line)\n",
    "    return new_lines\n",
    "        "
   ]
  },
  {
   "cell_type": "code",
   "execution_count": 96,
   "metadata": {
    "collapsed": false
   },
   "outputs": [],
   "source": [
    "def sub_math(lines):\n",
    "    new_lines = []\n",
    "    for line in lines:\n",
    "        matches = re.findall(r'\\$(.*?)\\$',line)\n",
    "        for match in matches:       \n",
    "            line = line.replace('$%s$' % match,\n",
    "                                ':math:`%s`' % (match))            \n",
    "        new_lines.append(line)\n",
    "    return new_lines"
   ]
  },
  {
   "cell_type": "code",
   "execution_count": null,
   "metadata": {
    "collapsed": false
   },
   "outputs": [],
   "source": [
    "if __name__ == \"__main__\":\n",
    "    to_remove_block_strings = ['.. code::','.. parsed-literal::']\n",
    "    ends_with_to_remove = ['#ex\\n']\n",
    "    starts_with_to_remove = ['    %matplotlib inline']\n",
    "    replacements = [('*#','`'),\n",
    "                   ('#*','`_')]\n",
    "\n",
    "    if len(sys.argv) == 1:\n",
    "        file_names = get_rst_file_names()\n",
    "    else:\n",
    "        file_names = sys.argv[1:]\n",
    "    for file_name in file_names:\n",
    "        print \"Applying fixes for: \", file_name\n",
    "        lines = get_lines(file_name)\n",
    "        fix_note_indentation(lines)\n",
    "\n",
    "        for to_remove in ends_with_to_remove:\n",
    "            lines = remove_endswith(lines,to_remove)\n",
    "\n",
    "        for to_remove in starts_with_to_remove:\n",
    "            lines = remove_startsswith(lines,to_remove)\n",
    "\n",
    "        for to_replace, replacement in replacements:\n",
    "            lines = replace_in_all(lines, to_replace, replacement)\n",
    "    \n",
    "        lines = remove_specified_images(lines)\n",
    "        lines = sub_math(lines)\n",
    "        lines = convert_html_tables(lines)\n",
    "\n",
    "\n",
    "        for block_to_remove in to_remove_block_strings:\n",
    "            lines = remove_empty_block(lines, block_to_remove)\n",
    "            \n",
    "        lines= add_in_out(lines)\n",
    "\n",
    "        \n",
    "        save_lines(lines, file_name)"
   ]
  }
 ],
 "metadata": {
  "kernelspec": {
   "display_name": "Python 2",
   "language": "python",
   "name": "python2"
  },
  "language_info": {
   "codemirror_mode": {
    "name": "ipython",
    "version": 2
   },
   "file_extension": ".py",
   "mimetype": "text/x-python",
   "name": "python",
   "nbconvert_exporter": "python",
   "pygments_lexer": "ipython2",
   "version": "2.7.6"
  }
 },
 "nbformat": 4,
 "nbformat_minor": 4
}
