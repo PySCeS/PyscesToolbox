{
 "cells": [
  {
   "cell_type": "code",
   "execution_count": 1,
   "metadata": {
    "collapsed": false
   },
   "outputs": [],
   "source": [
    "from IPython import nbformat"
   ]
  },
  {
   "cell_type": "code",
   "execution_count": 2,
   "metadata": {
    "collapsed": false
   },
   "outputs": [],
   "source": [
    "test = nbformat.read(\"/home/carl/Documents/Code/Projects/PyscesToolbox/documentation/notebooks/SymCA.ipynb\",nbformat.NO_CONVERT)"
   ]
  },
  {
   "cell_type": "markdown",
   "metadata": {},
   "source": [
    "### Needed functionality\n",
    "\n",
    "Removing #ex from end of coding line\n",
    "\n",
    "Removing #ex comment\n",
    "\n",
    "Remove comment #remove_next\n",
    "\n",
    "Remove cells with:\n",
    "\n",
    "\"# To avoid duplication - do not run                                     #ex\"\n",
    "\n",
    "and\n",
    "\n",
    "\"display(Image(path.join(notebook_dir,'images','sc_model_graph_1.png'))) #ex\"\n"
   ]
  },
  {
   "cell_type": "code",
   "execution_count": 6,
   "metadata": {
    "collapsed": false
   },
   "outputs": [
    {
     "data": {
      "text/plain": [
       "IPython.nbformat.notebooknode.NotebookNode"
      ]
     },
     "execution_count": 6,
     "metadata": {},
     "output_type": "execute_result"
    }
   ],
   "source": [
    "type(test.cells[0])"
   ]
  },
  {
   "cell_type": "code",
   "execution_count": 7,
   "metadata": {
    "collapsed": false
   },
   "outputs": [],
   "source": [
    "new_base = {k:v for k,v in test.iteritems() if k != 'cells'}"
   ]
  },
  {
   "cell_type": "code",
   "execution_count": 8,
   "metadata": {
    "collapsed": false
   },
   "outputs": [],
   "source": [
    "new_base['cells'] = []"
   ]
  },
  {
   "cell_type": "code",
   "execution_count": 9,
   "metadata": {
    "collapsed": false
   },
   "outputs": [],
   "source": [
    "for cell in test.cells:\n",
    "    if remove_cell_with(cell['source'],'# To avoid duplication'):\n",
    "        new_lines = []\n",
    "        for line in iterlines(cell['source']):\n",
    "            new_line = remove_ex_comment(line)\n",
    "            new_line = remove_ex(new_line)\n",
    "            new_line = remove_line_with(new_line, '#remove_next')\n",
    "            new_lines.append(new_line)\n",
    "        new_source = combine_lines(new_lines)\n",
    "        new_cell = {k:v for k,v in cell.iteritems() if k != u'source'}\n",
    "        new_cell[u'source'] = new_source\n",
    "        new_cell = nbformat.NotebookNode(new_cell)\n",
    "        new_base['cells'].append(new_cell)"
   ]
  },
  {
   "cell_type": "code",
   "execution_count": 10,
   "metadata": {
    "collapsed": false
   },
   "outputs": [
    {
     "data": {
      "text/plain": [
       "IPython.nbformat.notebooknode.NotebookNode"
      ]
     },
     "execution_count": 10,
     "metadata": {},
     "output_type": "execute_result"
    }
   ],
   "source": [
    "type(new_base['cells'][0])"
   ]
  },
  {
   "cell_type": "code",
   "execution_count": 11,
   "metadata": {
    "collapsed": false
   },
   "outputs": [],
   "source": [
    "new = nbformat.NotebookNode(new_base)"
   ]
  },
  {
   "cell_type": "code",
   "execution_count": 12,
   "metadata": {
    "collapsed": false
   },
   "outputs": [],
   "source": [
    "nbformat.write(new,'/home/carl/Documents/Code/Projects/PyscesToolbox/documentation/notebooks/SymCA_test.ipynb')"
   ]
  },
  {
   "cell_type": "code",
   "execution_count": 3,
   "metadata": {
    "collapsed": true
   },
   "outputs": [],
   "source": [
    "def remove_ex_comment(line):\n",
    "    if line.startswith('#') and '#ex' in line:\n",
    "        return ''\n",
    "    else:\n",
    "        return line\n",
    "\n",
    "def remove_line_with(line, pattern):\n",
    "    if pattern in line:\n",
    "        return ''\n",
    "    else:\n",
    "        return line\n",
    "    \n",
    "def remove_ex(line):\n",
    "    return line.replace('#ex','')\n",
    "\n",
    "def remove_cell_with(cell, pattern):\n",
    "    if pattern in cell:\n",
    "        return None\n",
    "    else:\n",
    "        return cell"
   ]
  },
  {
   "cell_type": "code",
   "execution_count": 4,
   "metadata": {
    "collapsed": false
   },
   "outputs": [],
   "source": [
    "# new_lines = []\n",
    "# for line in iterlines(test.cells[0]['source']):\n",
    "#     new_line = remove_ex_comment(line)\n",
    "#     new_line = remove_ex(new_line)\n",
    "#     new_lines.append(new_line)"
   ]
  },
  {
   "cell_type": "code",
   "execution_count": 5,
   "metadata": {
    "collapsed": false
   },
   "outputs": [],
   "source": [
    "def iterlines(text):\n",
    "    lines = []\n",
    "    current_line = ''\n",
    "    for char in text:\n",
    "        current_line = current_line + char\n",
    "        if char == '\\n':\n",
    "            lines.append(current_line)\n",
    "            current_line = ''\n",
    "    lines.append(current_line)\n",
    "    return lines\n",
    "\n",
    "def combine_lines(lines):\n",
    "    new = ''\n",
    "    for each in lines:\n",
    "        new = new + each\n",
    "    return new\n",
    "            "
   ]
  },
  {
   "cell_type": "code",
   "execution_count": 17,
   "metadata": {
    "collapsed": true
   },
   "outputs": [],
   "source": [
    "x = 'asd\\nasdwqeqwe\\nasdwewrwqr\\nwiioasdoisad'"
   ]
  },
  {
   "cell_type": "code",
   "execution_count": 4,
   "metadata": {
    "collapsed": false
   },
   "outputs": [
    {
     "name": "stdout",
     "output_type": "stream",
     "text": [
      "['asd', 'asdwqeqwe', 'asdwewrwqr', 'wiioasdoisad']\n"
     ]
    }
   ],
   "source": [
    "print x.split('\\n')"
   ]
  },
  {
   "cell_type": "code",
   "execution_count": 8,
   "metadata": {
    "collapsed": false
   },
   "outputs": [
    {
     "data": {
      "text/plain": [
       "'\\n'"
      ]
     },
     "execution_count": 8,
     "metadata": {},
     "output_type": "execute_result"
    }
   ],
   "source": [
    "x[-1]"
   ]
  },
  {
   "cell_type": "code",
   "execution_count": 10,
   "metadata": {
    "collapsed": false
   },
   "outputs": [
    {
     "data": {
      "text/plain": [
       "'asd\\nasdwqeqwe\\nasdwewrwqr\\nwiioasdoisad\\n'"
      ]
     },
     "execution_count": 10,
     "metadata": {},
     "output_type": "execute_result"
    }
   ],
   "source": [
    "x"
   ]
  },
  {
   "cell_type": "code",
   "execution_count": 12,
   "metadata": {
    "collapsed": false
   },
   "outputs": [
    {
     "data": {
      "text/plain": [
       "['asd\\n', 'asdwqeqwe\\n', 'asdwewrwqr\\n', 'wiioasdoisad\\n', '\\n']"
      ]
     },
     "execution_count": 12,
     "metadata": {},
     "output_type": "execute_result"
    }
   ],
   "source": [
    "[line + '\\n' for line in x.split('\\n')]"
   ]
  },
  {
   "cell_type": "code",
   "execution_count": 19,
   "metadata": {
    "collapsed": true
   },
   "outputs": [],
   "source": [
    "def iterlines(text):\n",
    "    \"\"\"\n",
    "    \"\"\"\n",
    "    lines = text.split('\\n')\n",
    "    if text[-1] == '\\n':\n",
    "        lines = [line + '\\n' for line in lines[:-1]]\n",
    "        return lines\n",
    "    else:\n",
    "        lines = [line + '\\n' for line in lines[:-1]] + [lines[-1]]\n",
    "        return lines"
   ]
  },
  {
   "cell_type": "code",
   "execution_count": 20,
   "metadata": {
    "collapsed": false
   },
   "outputs": [
    {
     "data": {
      "text/plain": [
       "['asd\\n', 'asdwqeqwe\\n', 'asdwewrwqr\\n', 'wiioasdoisad']"
      ]
     },
     "execution_count": 20,
     "metadata": {},
     "output_type": "execute_result"
    }
   ],
   "source": [
    "iterlines(x)"
   ]
  },
  {
   "cell_type": "code",
   "execution_count": 21,
   "metadata": {
    "collapsed": true
   },
   "outputs": [],
   "source": [
    "from sys import path"
   ]
  },
  {
   "cell_type": "code",
   "execution_count": 23,
   "metadata": {
    "collapsed": true
   },
   "outputs": [],
   "source": [
    "from os import path"
   ]
  },
  {
   "cell_type": "code",
   "execution_count": 30,
   "metadata": {
    "collapsed": false
   },
   "outputs": [
    {
     "data": {
      "text/plain": [
       "('/home/carl/Documents/Code/Projects/PyscesToolbox/documentation/notebooks/SymCA_test',\n",
       " '.ipynb')"
      ]
     },
     "execution_count": 30,
     "metadata": {},
     "output_type": "execute_result"
    }
   ],
   "source": [
    "path.splitext('/home/carl/Documents/Code/Projects/PyscesToolbox/documentation/notebooks/SymCA_test.ipynb')"
   ]
  },
  {
   "cell_type": "code",
   "execution_count": 32,
   "metadata": {
    "collapsed": false
   },
   "outputs": [
    {
     "ename": "TypeError",
     "evalue": "descriptor 'join' requires a 'str' object but received a 'list'",
     "output_type": "error",
     "traceback": [
      "\u001b[1;31m---------------------------------------------------------------------------\u001b[0m",
      "\u001b[1;31mTypeError\u001b[0m                                 Traceback (most recent call last)",
      "\u001b[1;32m<ipython-input-32-8d1a89f30f93>\u001b[0m in \u001b[0;36m<module>\u001b[1;34m()\u001b[0m\n\u001b[1;32m----> 1\u001b[1;33m \u001b[0mstr\u001b[0m\u001b[1;33m.\u001b[0m\u001b[0mjoin\u001b[0m\u001b[1;33m(\u001b[0m\u001b[1;33m[\u001b[0m\u001b[1;34m'1'\u001b[0m\u001b[1;33m,\u001b[0m\u001b[1;34m'2'\u001b[0m\u001b[1;33m,\u001b[0m\u001b[1;34m'3'\u001b[0m\u001b[1;33m]\u001b[0m\u001b[1;33m)\u001b[0m\u001b[1;33m\u001b[0m\u001b[0m\n\u001b[0m",
      "\u001b[1;31mTypeError\u001b[0m: descriptor 'join' requires a 'str' object but received a 'list'"
     ]
    }
   ],
   "source": []
  },
  {
   "cell_type": "code",
   "execution_count": null,
   "metadata": {
    "collapsed": true
   },
   "outputs": [],
   "source": []
  }
 ],
 "metadata": {
  "kernelspec": {
   "display_name": "Python 2",
   "language": "python",
   "name": "python2"
  },
  "language_info": {
   "codemirror_mode": {
    "name": "ipython",
    "version": 2
   },
   "file_extension": ".py",
   "mimetype": "text/x-python",
   "name": "python",
   "nbconvert_exporter": "python",
   "pygments_lexer": "ipython2",
   "version": "2.7.12"
  }
 },
 "nbformat": 4,
 "nbformat_minor": 0
}
