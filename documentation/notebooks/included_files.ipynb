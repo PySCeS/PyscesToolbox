{
 "cells": [
  {
   "cell_type": "markdown",
   "metadata": {},
   "source": [
    "#Included Files\n",
    "\n",
    "\n"
   ]
  },
  {
   "cell_type": "code",
   "execution_count": 1,
   "metadata": {
    "collapsed": false
   },
   "outputs": [
    {
     "name": "stdout",
     "output_type": "stream",
     "text": [
      "Matplotlib \"Tkagg\" backend not set, defaulting to: \"TkAgg\"\n",
      "Matplotlib interface loaded (pysces.plt.m)\n",
      "Pitcon routines available\n",
      "NLEQ2 routines available\n",
      "You are using NumPy (1.8.2) with SciPy (0.13.3)\n",
      "PySundials available\n",
      "RateChar is available\n",
      "Parallel scanner is available\n",
      "\n",
      "PySCeS environment\n",
      "******************\n",
      "pysces.model_dir = /home/carl/Pysces/psc\n",
      "pysces.output_dir = /home/carl/Pysces\n",
      "\n",
      "\n",
      "***********************************************************************\n",
      "* Welcome to PySCeS (0.9.0) - Python Simulator for Cellular Systems   *\n",
      "*                http://pysces.sourceforge.net                        *\n",
      "* Copyright(C) B.G. Olivier, J.M. Rohwer, J.-H.S. Hofmeyr, 2004-2013  *\n",
      "* Triple-J Group for Molecular Cell Physiology                        *\n",
      "* Stellenbosch University, ZA and VU University Amsterdam, NL         *\n",
      "* PySCeS is distributed under the PySCeS (BSD style) licence, see     *\n",
      "* LICENCE.txt (supplied with this release) for details                *\n",
      "***********************************************************************\n"
     ]
    },
    {
     "name": "stderr",
     "output_type": "stream",
     "text": [
      ":0: FutureWarning: IPython widgets are experimental and may change in the future.\n"
     ]
    }
   ],
   "source": [
    "################################   NOTES   ##############################ex\n",
    "# Lines of code that are to be excluded from the documentation are      #ex\n",
    "# marked with `#ex` at the end of the line.                             #ex\n",
    "#                                                                       #ex\n",
    "# To ensure that figures are displayed correctly together with widgets  #ex\n",
    "# in the sphinx documentation we will include screenshots of some of    #ex\n",
    "# the produced figures.                                                 #ex\n",
    "# Do not run cells with the `display(Image('path_to_image'))` code to   #ex\n",
    "# avoid duplication of results in the notebook.                         #ex\n",
    "#                                                                       #ex\n",
    "# Some reStructuredText 2 (ReST) syntax is included to aid in           #ex\n",
    "# conversion to ReST for the sphinx documentation.                      #ex\n",
    "#########################################################################ex\n",
    "notebook_dir = %pwd                                                     #ex\n",
    "%matplotlib inline                               \n",
    "import pysces                                                           #ex\n",
    "import psctb                                                            #ex\n",
    "import numpy                                                            #ex\n",
    "from os import path                                                     #ex\n",
    "from IPython.display import display, Image                              #ex\n"
   ]
  },
  {
   "cell_type": "code",
   "execution_count": 28,
   "metadata": {
    "collapsed": false
   },
   "outputs": [
    {
     "name": "stdout",
     "output_type": "stream",
     "text": [
      "Assuming extension is .psc\n",
      "Using model directory: /home/carl/Pysces/psc\n",
      "/home/carl/Pysces/psc/lin5_hill.psc loading ..... \n",
      "Parsing file: /home/carl/Pysces/psc/lin5_hill.psc\n",
      "Info: \"P\" has been initialised but does not occur in a rate equation\n",
      " \n",
      "Calculating L matrix . . . . . . .  done.\n",
      "Calculating K matrix . . . . . . .  done.\n",
      " \n"
     ]
    }
   ],
   "source": [
    "mod = pysces.model('lin5_hill')"
   ]
  },
  {
   "cell_type": "code",
   "execution_count": 46,
   "metadata": {
    "collapsed": true
   },
   "outputs": [],
   "source": [
    "mg = psctb.ModelGraph(mod)"
   ]
  },
  {
   "cell_type": "code",
   "execution_count": 47,
   "metadata": {
    "collapsed": false
   },
   "outputs": [],
   "source": [
    "mg.width = 800"
   ]
  },
  {
   "cell_type": "code",
   "execution_count": 48,
   "metadata": {
    "collapsed": false
   },
   "outputs": [],
   "source": [
    "mg.height = 300"
   ]
  },
  {
   "cell_type": "code",
   "execution_count": 49,
   "metadata": {
    "collapsed": true
   },
   "outputs": [],
   "source": [
    "mg.show()"
   ]
  },
  {
   "cell_type": "code",
   "execution_count": 50,
   "metadata": {
    "collapsed": true
   },
   "outputs": [],
   "source": [
    "mg.save('/home/carl/Documents/Code/Projects/PyscesToolbox/documentation/source/included_files_files/lin5_hill.svg')"
   ]
  },
  {
   "cell_type": "code",
   "execution_count": null,
   "metadata": {
    "collapsed": true
   },
   "outputs": [],
   "source": []
  }
 ],
 "metadata": {
  "kernelspec": {
   "display_name": "Python 2",
   "language": "python",
   "name": "python2"
  },
  "language_info": {
   "codemirror_mode": {
    "name": "ipython",
    "version": 2
   },
   "file_extension": ".py",
   "mimetype": "text/x-python",
   "name": "python",
   "nbconvert_exporter": "python",
   "pygments_lexer": "ipython2",
   "version": "2.7.6"
  }
 },
 "nbformat": 4,
 "nbformat_minor": 0
}
