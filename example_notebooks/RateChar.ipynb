{
 "cells": [
  {
   "cell_type": "code",
   "execution_count": null,
   "metadata": {
    "collapsed": false
   },
   "outputs": [],
   "source": [
    "notebook_dir = %pwd                                                     \n",
    "%matplotlib inline                               \n",
    "import pysces                                                           \n",
    "import psctb                                                            \n",
    "import numpy                                                            \n",
    "from os import path                                                     \n",
    "from IPython.display import display, Image                              \n",
    "from sys import platform                                                "
   ]
  },
  {
   "cell_type": "markdown",
   "metadata": {},
   "source": [
    "# RateChar\n",
    "\n",
    "RateChar is a tool for performing generalised supply-demand analysis (GSDA) [[2,3]](references.html). This entails the generation data needed to draw rate characteristic plots for all the variable species of metabolic model through parameter scans and the subsequent visualisation of these data in the form of `ScanFig` objects.\n",
    "\n",
    "## Features\n",
    "\n",
    "* Performs parameter scans for any variable species of a metabolic model\n",
    "* Stores results in a structure similar to `Data2D`.\n",
    "* Saving of raw parameter scan data, together with metabolic control analysis results to disk.\n",
    "* Saving of `RateChar` sessions to disk for later use.\n",
    "* Generates rate characteristic plots from parameter scans (using `ScanFig`).\n",
    "* Can perform parameter scans of any variable species with outputs for relevant response, partial response, elasticity and control coefficients (with data stores as `Data2D` objects).\n",
    "\n",
    "## Usage and Feature Walkthrough\n",
    "\n",
    "### Workflow\n",
    "\n",
    "Performing GSDA with `RateChar` usually requires taking the following steps:\n",
    "\n",
    "1. Instantiation of `RateChar` object (optionally specifying default settings).\n",
    "2. Performing a configurable parameter scan of any combination of variable species (or loading previously saved results).\n",
    "3. Accessing scan results through `RateCharData` objects corresponding to the names of the scanned species that can be found as attributes of the instantiated `RateChar` object. \n",
    "4. Plotting results of a particular species using the `plot` method of the `RateCharData` object corresponding to that species. \n",
    "5. Further analysis using the `do_mca_scan` method. \n",
    "6. Session/Result saving if required.\n",
    "7. Further Analysis\n",
    "\n",
    ".. note:: Parameter scans are performed for a range of concentrations values between two set values. By default the minimum and maximum scan range values are calculated relative to the steady state concentration the species for which a scan is performed respectively using a division and multiplication factor. Minimum and maximum values may also be explicitly specified. Furthermore the number of points for which a scan is performed may also be specified. Details of how to access these options will be discussed below. \n",
    "\n",
    "### Object Instantiation\n",
    "\n",
    "Like most tools provided in PySCeSToolbox, instantiation of a `RateChar` object requires a pysces model object (`PysMod`) as an argument. A `RateChar` session will typically be initiated as follows (here we will use the included [lin4_fb.psc](included_files.html#lin4-fb-hill-psc) model):"
   ]
  },
  {
   "cell_type": "code",
   "execution_count": 2,
   "metadata": {
    "collapsed": false
   },
   "outputs": [
    {
     "name": "stdout",
     "output_type": "stream",
     "text": [
      "Using model directory: /home/carl/Pysces/psc\n",
      "/home/carl/Pysces/psc/lin4_fb.psc loading ..... \n",
      "Parsing file: /home/carl/Pysces/psc/lin4_fb.psc\n",
      "Info: \"X4\" has been initialised but does not occur in a rate equation\n",
      " \n",
      "Calculating L matrix . . . . . . .  done.\n",
      "Calculating K matrix . . . . . . .  done.\n",
      " \n"
     ]
    }
   ],
   "source": [
    "mod = pysces.model('lin4_fb.psc')\n",
    "rc = psctb.RateChar(mod)"
   ]
  },
  {
   "cell_type": "markdown",
   "metadata": {},
   "source": [
    "Default parameter scan settings relating to a specific `RateChar` session can also be specified during instantiation:"
   ]
  },
  {
   "cell_type": "code",
   "execution_count": 3,
   "metadata": {
    "collapsed": true
   },
   "outputs": [],
   "source": [
    "rc = psctb.RateChar(mod,min_concrange_factor=100,\n",
    "                    max_concrange_factor=100,\n",
    "                    scan_points=255,\n",
    "                    auto_load=False)"
   ]
  },
  {
   "cell_type": "markdown",
   "metadata": {},
   "source": [
    "* `min_concrange_factor` : The steady state division factor for calculating scan range minimums *(default: 100)*.\n",
    "* `max_concrange_factor` : The steady state multiplication factor for calculating scan range maximums *(default: 100)*.\n",
    "* `scan_points` : The number of concentration sample points that will be taken during parameter scans *(default: 256)*.\n",
    "* `auto_load` : If `True` `RateChar` will try to load saved data from a previous session during instantiation. Saved data is unaffected by the above options and are only subject to the settings specified during the session where they were generated.  *(default:* `False`*)*.\n",
    "\n",
    "The settings specified with these optional arguments take effect when the corresponding arguments are not specified during a parameter scan. "
   ]
  },
  {
   "cell_type": "markdown",
   "metadata": {},
   "source": [
    "### Parameter Scan\n",
    "\n",
    "After object instantiation, parameter scans may be performed for any of the variable species using the `do_ratechar` method. By default `do_ratechar` will perform parameter scans for all variable metabolites using the settings specified during instantiation. For saving/loading see [Saving/Loading Sessions](RateChar.ipynb#saving-loading-sessions) below."
   ]
  },
  {
   "cell_type": "code",
   "execution_count": 4,
   "metadata": {
    "collapsed": false
   },
   "outputs": [
    {
     "data": {
      "text/plain": [
       "('S1', 'S2', 'S3')"
      ]
     },
     "execution_count": 4,
     "metadata": {},
     "output_type": "execute_result"
    }
   ],
   "source": [
    "mod.species"
   ]
  },
  {
   "cell_type": "code",
   "execution_count": 5,
   "metadata": {
    "collapsed": false
   },
   "outputs": [],
   "source": [
    "rc.do_ratechar()"
   ]
  },
  {
   "cell_type": "markdown",
   "metadata": {},
   "source": [
    "Various optional arguments, similar to those used during object instantiation, can be used to override the default settings and customise any parameter scan:"
   ]
  },
  {
   "cell_type": "markdown",
   "metadata": {},
   "source": [
    "* `fixed` : A string or list of strings specifying the species for which to perform a parameter scan. The string `'all'` specifies that all variable species should be scanned. *(default: `all`)*\n",
    "* `scan_min` : The minimum value of the scan range, overrides `min_concrange_factor` *(default: None)*.\n",
    "* `scan_max` : The maximum value of the scan range, overrides `max_concrange_factor` *(default: None)*.\n",
    "* `min_concrange_factor` : The steady state division factor for calculating scan range minimums *(default: None)*\n",
    "* `max_concrange_factor` : The steady state multiplication factor for calculating scan range maximums *(default: None)*.\n",
    "* `scan_points` : The number of concentration sample points that will be taken during parameter scans *(default: None)*.\n",
    "* `solver` : An integer value that specifies which solver to use (0:Hybrd,1:NLEQ,2:FINTSLV). *(default: 0)*.\n",
    "\n",
    ".. note:: For details on different solvers see the [PySCeS documentation](http://pysces.sourceforge.net/docs/userguide_doc.html#steady-state-analysis): \n",
    "\n",
    "For example in a scenario where we only wanted to perform parameter scans of 200 points for the metabolites `S1` and `S3` starting at a value of 0.02 and ending at a value 110 times their respective steady-state values the method would be called as follows:"
   ]
  },
  {
   "cell_type": "code",
   "execution_count": 6,
   "metadata": {
    "collapsed": true
   },
   "outputs": [],
   "source": [
    "rc.do_ratechar(fixed=['S1','S3'], scan_min=0.02, max_concrange_factor=110, scan_points=200)"
   ]
  },
  {
   "cell_type": "markdown",
   "metadata": {},
   "source": [
    "### Accessing Results\n",
    "#### Parameter Scan Results\n",
    "\n",
    "Parameter scan results for any particular species are saved as an attribute of the `RateChar` object under the name of that species. These `RateCharData` objects are similar to `Data2D` objects with parameter scan results being accessible through a `scan_results` DotDict:"
   ]
  },
  {
   "cell_type": "code",
   "execution_count": 7,
   "metadata": {
    "collapsed": false
   },
   "outputs": [
    {
     "data": {
      "text/plain": [
       "['J_R3',\n",
       " 'J_R4',\n",
       " 'ecR3_S3',\n",
       " 'ecR4_S3',\n",
       " 'ec_data',\n",
       " 'ec_names',\n",
       " 'fixed',\n",
       " 'fixed_ss',\n",
       " 'flux_data',\n",
       " 'flux_max',\n",
       " 'flux_min',\n",
       " 'flux_names',\n",
       " 'prcJR3_S3_R1',\n",
       " 'prcJR3_S3_R3',\n",
       " 'prcJR3_S3_R4',\n",
       " 'prcJR4_S3_R1',\n",
       " 'prcJR4_S3_R3',\n",
       " 'prcJR4_S3_R4',\n",
       " 'prc_data',\n",
       " 'prc_names',\n",
       " 'rcJR3_S3',\n",
       " 'rcJR4_S3',\n",
       " 'rc_data',\n",
       " 'rc_names',\n",
       " 'scan_max',\n",
       " 'scan_min',\n",
       " 'scan_points',\n",
       " 'scan_range',\n",
       " 'total_demand',\n",
       " 'total_supply']"
      ]
     },
     "execution_count": 7,
     "metadata": {},
     "output_type": "execute_result"
    }
   ],
   "source": [
    "# Each key represents a field through which results can be accessed\n",
    "sorted(rc.S3.scan_results.keys())"
   ]
  },
  {
   "cell_type": "markdown",
   "metadata": {},
   "source": [
    ".. note:: The `DotDict` data structure is essentially a dictionary with additional functionality for displaying results in table form (when appropriate) and for accessing data using dot notation in addition the normal dictionary bracket notation. \n",
    "\n",
    "In the above dictionary-like structure each field can represent different types of data, the most simple of which is a single value, e.g., `scan_min` and `fixed`, or a 1-dimensional numpy ndarray which represent input (`scan_range`) or output (`J_R3`, `J_R4`, `total_supply`):"
   ]
  },
  {
   "cell_type": "code",
   "execution_count": 8,
   "metadata": {
    "collapsed": false
   },
   "outputs": [
    {
     "data": {
      "text/plain": [
       "0.020000000000000004"
      ]
     },
     "execution_count": 8,
     "metadata": {},
     "output_type": "execute_result"
    }
   ],
   "source": [
    "# Single value results\n",
    "\n",
    "# scan_min value\n",
    "rc.S3.scan_results.scan_min"
   ]
  },
  {
   "cell_type": "code",
   "execution_count": 9,
   "metadata": {
    "collapsed": false
   },
   "outputs": [
    {
     "data": {
      "text/plain": [
       "'S3'"
      ]
     },
     "execution_count": 9,
     "metadata": {},
     "output_type": "execute_result"
    }
   ],
   "source": [
    "# fixed metabolite name\n",
    "rc.S3.scan_results.fixed"
   ]
  },
  {
   "cell_type": "code",
   "execution_count": 10,
   "metadata": {
    "collapsed": false
   },
   "outputs": [
    {
     "data": {
      "text/plain": [
       "array([  2.00000000e-02,   3.42884038e-02,   5.87847316e-02,\n",
       "         1.00781731e-01,   1.72782234e-01,   2.96221349e-01,\n",
       "         5.07847861e-01,   8.70664626e-01,   1.49268501e+00,\n",
       "         2.55908932e+00,   4.38735439e+00,   7.52176893e+00,\n",
       "         1.28954725e+01,   2.21082584e+01,   3.79028445e+01,\n",
       "         6.49814018e+01,   1.11405427e+02,   1.90995713e+02,\n",
       "         3.27446907e+02,   5.61381587e+02])"
      ]
     },
     "execution_count": 10,
     "metadata": {},
     "output_type": "execute_result"
    }
   ],
   "source": [
    "# 1-dimensional ndarray results (only every 10th value of 200 value arrays)\n",
    "\n",
    "# scan_range values\n",
    "rc.S3.scan_results.scan_range[::10]"
   ]
  },
  {
   "cell_type": "code",
   "execution_count": 11,
   "metadata": {
    "collapsed": false
   },
   "outputs": [
    {
     "data": {
      "text/plain": [
       "array([ 199.95837618,  199.95793443,  199.95717575,  199.95586349,\n",
       "        199.95351373,  199.94862132,  199.93277067,  199.84116362,\n",
       "        199.13023486,  193.32039795,  154.71345957,   58.57037566,\n",
       "         12.34220931,    4.95993525,    4.0627301 ,    3.94870431,\n",
       "          3.91873852,    3.88648387,    3.83336626,    3.74248032])"
      ]
     },
     "execution_count": 11,
     "metadata": {},
     "output_type": "execute_result"
    }
   ],
   "source": [
    "# J_R3 values for scan_range\n",
    "rc.S3.scan_results.J_R3[::10]"
   ]
  },
  {
   "cell_type": "code",
   "execution_count": 12,
   "metadata": {
    "collapsed": false
   },
   "outputs": [
    {
     "data": {
      "text/plain": [
       "array([ 199.95837618,  199.95793443,  199.95717575,  199.95586349,\n",
       "        199.95351373,  199.94862132,  199.93277067,  199.84116362,\n",
       "        199.13023486,  193.32039795,  154.71345957,   58.57037566,\n",
       "         12.34220931,    4.95993525,    4.0627301 ,    3.94870431,\n",
       "          3.91873852,    3.88648387,    3.83336626,    3.74248032])"
      ]
     },
     "execution_count": 12,
     "metadata": {},
     "output_type": "execute_result"
    }
   ],
   "source": [
    "# total_supply values for scan_range\n",
    "rc.S3.scan_results.total_supply[::10]\n",
    "\n",
    "# Note that J_R3 and total_supply are equal in this case, because S3 \n",
    "# only has a single supply reaction"
   ]
  },
  {
   "cell_type": "markdown",
   "metadata": {},
   "source": [
    "Finally data needed to draw lines relating to metabolic control analysis coefficients are also included in `scan_results`. Data is supplied in 3 different forms: Lists names of the coefficients (under `ec_names`, `prc_names`, etc.), 2-dimensional arrays with exactly 4 values (representing 2 sets of x,y coordinates) that will be used to plot coefficient lines, and 2-dimensional array that collects coefficient line data for each coefficient type into single arrays (under `ec_data`, `prc_names`, etc.). \n"
   ]
  },
  {
   "cell_type": "code",
   "execution_count": 13,
   "metadata": {
    "collapsed": false
   },
   "outputs": [
    {
     "data": {
      "text/plain": [
       "['ecR4_S3', 'ecR3_S3']"
      ]
     },
     "execution_count": 13,
     "metadata": {},
     "output_type": "execute_result"
    }
   ],
   "source": [
    "# Metabolic Control Analysis coefficient line data\n",
    "\n",
    "# Names of elasticity coefficients related to the 'S3' parameter scan\n",
    "rc.S3.scan_results.ec_names"
   ]
  },
  {
   "cell_type": "code",
   "execution_count": 14,
   "metadata": {
    "collapsed": false
   },
   "outputs": [
    {
     "data": {
      "text/plain": [
       "array([[   7.74367648,  166.89714142],\n",
       "       [   8.87554125,   11.92812809]])"
      ]
     },
     "execution_count": 14,
     "metadata": {},
     "output_type": "execute_result"
    }
   ],
   "source": [
    "# The x, y coordinates for two points that will be used to plot a \n",
    "# visual representation of ecR3_S3\n",
    "rc.S3.scan_results.ecR3_S3"
   ]
  },
  {
   "cell_type": "code",
   "execution_count": 15,
   "metadata": {
    "collapsed": false
   },
   "outputs": [
    {
     "data": {
      "text/plain": [
       "array([[  2.77554202,  39.66048804],\n",
       "       [ 24.76248588,  50.19530973]])"
      ]
     },
     "execution_count": 15,
     "metadata": {},
     "output_type": "execute_result"
    }
   ],
   "source": [
    "# The x,y coordinates for two points that will be used to plot a \n",
    "# visual representation of ecR4_S3\n",
    "rc.S3.scan_results.ecR4_S3"
   ]
  },
  {
   "cell_type": "code",
   "execution_count": 16,
   "metadata": {
    "collapsed": false
   },
   "outputs": [
    {
     "data": {
      "text/plain": [
       "array([[   2.77554202,   39.66048804,    7.74367648,  166.89714142],\n",
       "       [  24.76248588,   50.19530973,    8.87554125,   11.92812809]])"
      ]
     },
     "execution_count": 16,
     "metadata": {},
     "output_type": "execute_result"
    }
   ],
   "source": [
    "# The ecR3_S3 and ecR4_S3 data collected into a single array \n",
    "# (horizontally stacked).\n",
    "rc.S3.scan_results.ec_data"
   ]
  },
  {
   "cell_type": "markdown",
   "metadata": {},
   "source": [
    "#### Metabolic Control Analysis Results\n",
    "\n",
    "The in addition to being able to access the data that will be used to draw rate characteristic plots, the user also has access to the values of the metabolic control analysis coefficient values at the steady state of any particular species  via the `mca_results` field. This field represents a `DotDict` dictionary-like object (like `scan_results`), however as each key maps to exactly one result, the data can be displayed as a table (see [Basic Usage](basic_usage.html#tables)):"
   ]
  },
  {
   "cell_type": "code",
   "execution_count": 17,
   "metadata": {
    "collapsed": false
   },
   "outputs": [
    {
     "data": {
      "text/html": [
       "<div><table  style=\"display: inline-table\"><tr><td>$C^{JR3}_{R1}$</td><td>1.000</td></tr><tr><td>$C^{JR3}_{R3}$</td><td>4.612e-05</td></tr><tr><td>$C^{JR3}_{R4}$</td><td>0.000</td></tr><tr><td>$C^{JR4}_{R1}$</td><td>0.000</td></tr><tr><td>$C^{JR4}_{R3}$</td><td>0.000</td></tr><tr><td>$C^{JR4}_{R4}$</td><td>1.000</td></tr><tr><td>$\\varepsilon^{R1}_{S3}$</td><td>-2.888</td></tr><tr><td>$\\varepsilon^{R3}_{S3}$</td><td>-19.340</td></tr><tr><td>$\\varepsilon^{R4}_{S3}$</td><td>0.108</td></tr><tr><td>$\\,^{R1}R^{JR3}_{S3}$</td><td>-2.888</td></tr></table>\t\t<table  style=\"display: inline-table\"><tr><td>$\\,^{R3}R^{JR3}_{S3}$</td><td>-8.921e-04</td></tr><tr><td>$\\,^{R4}R^{JR3}_{S3}$</td><td>0.000</td></tr><tr><td>$\\,^{R1}R^{JR4}_{S3}$</td><td>-0.000</td></tr><tr><td>$\\,^{R3}R^{JR4}_{S3}$</td><td>-0.000</td></tr><tr><td>$\\,^{R4}R^{JR4}_{S3}$</td><td>0.108</td></tr><tr><td>$R^{JR3}_{S3}$</td><td>-2.889</td></tr><tr><td>$R^{JR4}_{S3}$</td><td>0.108</td></tr></table>\t\t</div>"
      ],
      "text/plain": [
       "{'ccJR3_R1': 0.99986784585886035,\n",
       " 'ccJR3_R3': 4.6124217999333924e-05,\n",
       " 'ccJR3_R4': 0.0,\n",
       " 'ccJR4_R1': 0.0,\n",
       " 'ccJR4_R3': 0.0,\n",
       " 'ccJR4_R4': 1.0,\n",
       " 'ecR1_S3': -2.8883008987462748,\n",
       " 'ecR3_S3': -19.340457815383765,\n",
       " 'ecR4_S3': 0.10763897952806911,\n",
       " 'prcJR3_S3_R1': -2.8879191978216481,\n",
       " 'prcJR3_S3_R3': -0.00089206349248368232,\n",
       " 'prcJR3_S3_R4': 0.0,\n",
       " 'prcJR4_S3_R1': -0.0,\n",
       " 'prcJR4_S3_R3': -0.0,\n",
       " 'prcJR4_S3_R4': 0.10763897952806911,\n",
       " 'rcJR3_S3': -2.8888112613141317,\n",
       " 'rcJR4_S3': 0.10763897952806911}"
      ]
     },
     "execution_count": 17,
     "metadata": {},
     "output_type": "execute_result"
    }
   ],
   "source": [
    "# Metabolic control analysis coefficient results \n",
    "rc.S3.mca_results"
   ]
  },
  {
   "cell_type": "markdown",
   "metadata": {},
   "source": [
    "Naturally, coefficients can also be accessed individually:"
   ]
  },
  {
   "cell_type": "code",
   "execution_count": 18,
   "metadata": {
    "collapsed": false
   },
   "outputs": [
    {
     "data": {
      "text/plain": [
       "0.99986784585886035"
      ]
     },
     "execution_count": 18,
     "metadata": {},
     "output_type": "execute_result"
    }
   ],
   "source": [
    "# Control coefficient ccJR3_R1 value\n",
    "rc.S3.mca_results.ccJR3_R1"
   ]
  },
  {
   "cell_type": "markdown",
   "metadata": {},
   "source": [
    "### Plotting Results\n",
    "\n",
    "One of the strengths of generalised supply-demand analysis is that it provides an intuitive visual framework for inspecting results through the used of rate characteristic plots. Naturally this is therefore the main focus of RateChar. Parameter scan results for any particular species can be visualised as a `ScanFig` object through the `plot` method:\n",
    "\n"
   ]
  },
  {
   "cell_type": "code",
   "execution_count": 19,
   "metadata": {
    "collapsed": false
   },
   "outputs": [],
   "source": [
    "# Rate characteristic plot for 'S3'.\n",
    "S3_rate_char_plot = rc.S3.plot()"
   ]
  },
  {
   "cell_type": "markdown",
   "metadata": {},
   "source": [
    "Plots generated by `RateChar` do not have widgets for each individual line; lines are enabled or disabled in batches according to the category they belong to. By default the `Fluxes`, `Demand` and `Supply` categories are enabled when plotting.  To display the partial response coefficient lines together with the flux lines for `J_R3`, for instance, we would click the `J_R3` and the `Partial Response Coefficients` buttons (in addition to those that are enabled by default).\n",
    "\n"
   ]
  },
  {
   "cell_type": "code",
   "execution_count": 20,
   "metadata": {
    "collapsed": false
   },
   "outputs": [
    {
     "data": {
      "image/png": "[encoded data removed]",
      "text/plain": [
       "<matplotlib.figure.Figure at 0x7fe70ecbec50>"
      ]
     },
     "metadata": {},
     "output_type": "display_data"
    }
   ],
   "source": [
    "# Display plot via `interact` and enable certain lines by clicking category buttons.\n",
    "\n",
    "# The two method calls below are equivalent to clicking the 'J_R3'\n",
    "# and 'Partial Response Coefficients' buttons:\n",
    "# S3_rate_char_plot.toggle_category('J_R3',True)\n",
    "# S3_rate_char_plot.toggle_category('Partial Response Coefficients',True)\n",
    "\n",
    "S3_rate_char_plot.interact()\n"
   ]
  },
  {
   "cell_type": "markdown",
   "metadata": {},
   "source": [
    "Modifying the status of individual lines is still supported, but has to take place via the `toggle_line` method. As an example `prcJR3_C_R4` can be disabled as follows:"
   ]
  },
  {
   "cell_type": "code",
   "execution_count": 22,
   "metadata": {
    "collapsed": false
   },
   "outputs": [
    {
     "data": {
      "image/png": "[encoded data removed]",
      "text/plain": [
       "<matplotlib.figure.Figure at 0x7fe70ecbec50>"
      ]
     },
     "metadata": {},
     "output_type": "display_data"
    }
   ],
   "source": [
    "S3_rate_char_plot.toggle_line('prcJR3_S3_R4', False)\n",
    "S3_rate_char_plot.show()"
   ]
  },
  {
   "cell_type": "markdown",
   "metadata": {},
   "source": [
    ".. note:: For more details on saving see the sections [Saving and Default Directories](basic_usage.html#saving-and-default-directories) and [ScanFig](basic_usage.html#scanfig) under Basic Usage."
   ]
  },
  {
   "cell_type": "markdown",
   "metadata": {},
   "source": [
    "### Saving \n",
    "#### Saving/Loading Sessions\n",
    "\n",
    "RateChar sessions can be saved for later use. This is especially useful when working with large data sets that take some time to generate. Data sets can be saved to any arbitrary location by supplying a path:"
   ]
  },
  {
   "cell_type": "code",
   "execution_count": 23,
   "metadata": {
    "collapsed": false
   },
   "outputs": [],
   "source": [
    "# This points to a file under the Pysces directory \n",
    "save_file = '~/Pysces/rc_doc_example.npz'\n",
    "\n",
    "# Correct path depending on platform - necessary for platform independent scripts\n",
    "if platform == 'win32':\n",
    "    save_file = psctb.utils.misc.unix_to_windows_path(save_file)\n",
    "else:\n",
    "    save_file = path.expanduser(save_file)\n",
    "    \n",
    "rc.save_session(file_name = save_file)"
   ]
  },
  {
   "cell_type": "markdown",
   "metadata": {},
   "source": [
    "When no path is supplied the dataset will be saved to the default directory. (Which should be \"~/Pysces/lin4_fb/ratechar/save_data.npz\" in this case."
   ]
  },
  {
   "cell_type": "code",
   "execution_count": 24,
   "metadata": {
    "collapsed": true
   },
   "outputs": [],
   "source": [
    "rc.save_session() # to \"~/Pysces/lin4_fb/ratechar/save_data.npz\""
   ]
  },
  {
   "cell_type": "markdown",
   "metadata": {},
   "source": [
    "Similarly results may be loaded using the `load_session` method, either with or without a specified path:"
   ]
  },
  {
   "cell_type": "code",
   "execution_count": 25,
   "metadata": {
    "collapsed": false
   },
   "outputs": [],
   "source": [
    "rc.load_session(save_file)\n",
    "# OR\n",
    "rc.load_session() # from \"~/Pysces/lin4_fb/ratechar/save_data.npz\""
   ]
  },
  {
   "cell_type": "markdown",
   "metadata": {},
   "source": [
    "#### Saving Results\n",
    "\n",
    "Results may also be exported in csv format either to a specified location or to the default directory. Unlike saving of sessions results are spread over multiple files, so here an existing folder must be specified:"
   ]
  },
  {
   "cell_type": "code",
   "execution_count": 26,
   "metadata": {
    "collapsed": false
   },
   "outputs": [],
   "source": [
    "# This points to a subdirectory under the Pysces directory\n",
    "save_folder = '~/Pysces/lin4_fb/'\n",
    "\n",
    "# Correct path depending on platform - necessary for platform independent scripts\n",
    "if platform == 'win32':\n",
    "    save_folder = psctb.utils.misc.unix_to_windows_path(save_folder)\n",
    "else:\n",
    "    save_folder = path.expanduser(save_folder)\n",
    "    \n",
    "rc.save_results(save_folder)"
   ]
  },
  {
   "cell_type": "markdown",
   "metadata": {},
   "source": [
    "A subdirectory will be created for each metabolite with the files `ec_results_N`, `rc_results_N`, `prc_results_N`, `flux_results_N` and `mca_summary_N` (where `N` is a number starting at \"0\" which increments after each save operation to prevent overwriting files). "
   ]
  },
  {
   "cell_type": "code",
   "execution_count": 27,
   "metadata": {
    "collapsed": true
   },
   "outputs": [],
   "source": [
    "# Otherwise results will be saved to the default directory \n",
    "rc.save_results(save_folder) # to sub folders in \"~/Pysces/lin4_fb/ratechar/"
   ]
  },
  {
   "cell_type": "markdown",
   "metadata": {},
   "source": [
    "Alternatively the methods `save_coefficient_results`, `save_flux_results`, `save_summary` and `save_all_results` belonging to individual `RateCharData` objects can be used to save the individual result sets. "
   ]
  }
 ],
 "metadata": {
  "kernelspec": {
   "display_name": "Python 2",
   "language": "python",
   "name": "python2"
  },
  "language_info": {
   "codemirror_mode": {
    "name": "ipython",
    "version": 2
   },
   "file_extension": ".py",
   "mimetype": "text/x-python",
   "name": "python",
   "nbconvert_exporter": "python",
   "pygments_lexer": "ipython2",
   "version": "2.7.12"
  },
  "widgets": {
   "state": {
    "1951a8fa1ab044afb0b655d91d637011": {
     "views": [
      {
       "cell_index": 32
      }
     ]
    },
    "368c667f0cc145f18575ed686acaf43f": {
     "views": [
      {
       "cell_index": 32
      }
     ]
    },
    "5adb8b9e659f4a3fa06e33611515011e": {
     "views": [
      {
       "cell_index": 32
      }
     ]
    },
    "5ce236183d4748eaa033684e8bbb233c": {
     "views": [
      {
       "cell_index": 32
      }
     ]
    },
    "d0e83900a47b4ea0936f6044d3dd336e": {
     "views": [
      {
       "cell_index": 32
      }
     ]
    },
    "e0101afda2584683b2ebd4a3e9807c79": {
     "views": [
      {
       "cell_index": 32
      }
     ]
    },
    "e4e61570397741bb977d010047677b4d": {
     "views": [
      {
       "cell_index": 32
      }
     ]
    },
    "f51b6b650b3f48d187fc2bb0b044514a": {
     "views": [
      {
       "cell_index": 32
      }
     ]
    }
   },
   "version": "1.2.0"
  }
 },
 "nbformat": 4,
 "nbformat_minor": 0
}
