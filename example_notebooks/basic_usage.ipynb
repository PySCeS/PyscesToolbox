{
 "cells": [
  {
   "cell_type": "code",
   "execution_count": null,
   "metadata": {
    "collapsed": false,
    "scrolled": true,
    "slideshow": {
     "slide_type": "-"
    }
   },
   "outputs": [],
   "source": [
    "notebook_dir = %pwd                                                     \n",
    "%matplotlib inline                               \n",
    "import pysces                                                           \n",
    "import psctb                                                            \n",
    "import numpy                                                            \n",
    "from os import path                                                     \n",
    "from IPython.display import display, Image                              "
   ]
  },
  {
   "cell_type": "markdown",
   "metadata": {},
   "source": [
    "#Basic Usage\n",
    "\n",
    "This section gives a quick overview of some features and conventions that are common to all the main analysis tools. While the main analysis tools will be briefly referenced here, later sections will cover them in full.\n",
    "\n",
    "##Syntax\n",
    "\n",
    "As PySCeSToolbox was designed to work on top of PySCeS, many of its conventions are employed in this project. The syntax (or naming scheme) for referring to model variables and parameters is the most obvious legacy. Syntax is briefly described in the table below and relates to the provided [example model](included_files.htmlample-model-psc) (for input file syntax refer to the [PySCeS model descriptor language documentation](http://pysces.sourceforge.net/docs/inputfile_doc.html)): "
   ]
  },
  {
   "cell_type": "markdown",
   "metadata": {},
   "source": [
    "|Description | Syntax description | PySCeS example | Rendered LaTeX example  | \n",
    "|------------------------------------------|------------------------------------------------|--------------------|----------------------------------------------------|\n",
    "| Parameters | As defined in model file  | Keq2 | $Keq2$ |\n",
    "| Species | As defined in model file | S1 | $S1$ |\n",
    "| Reactions | As defined in model file | R1 | $R1$ |\n",
    "| Steady state species | “\\_ss” appended to model definition | S1_ss | $S1_{ss}$ |\n",
    "| Steady state reaction rates (Flux) | “J\\_” prepended to model definition | J_R1 | $J_{R1}$ |\n",
    "| Control coefficients | In the format “ccJreaction_reaction” | ccJR1_R2 | $C^{JR1}_{R2}$ |\n",
    "| Elasticity coefficients | In the format “ecreaction_modifier” | ecR1_S1 or ecR2_Vf1 | $\\varepsilon^{R1}_{S1}$ or $\\varepsilon^{R2}_{Vf2}$ |\n",
    "| Response coefficients | In the format “rcJreaction_parameter” | rcJR3_Vf3 | $R^{JR3}_{Vf3}$ |\n",
    "| Partial response coefficients | In the format “prcJreaction_parameter_reaction” | prcJR3_X2_R2 | $^{R2}R^{JR3}_{X2}$ |\n",
    "| Control patterns | CPn where n is an number assigned to a specific control pattern | CP4 | $CP4$ |\n",
    "| Flux contribution by specific term | In the format \"J_reaction_term\" | J_R1_binding | $J_{R1_{binding}}$ |\n",
    "| Elasticity contribution by specific term | In the format \"pecreaction_modifier_term\" | pecR1_S1_binding | $\\varepsilon^{R1_{binding}}_{S1}$ |\n",
    "\n",
    ".. note:: Any underscores (\\_) in model defined variables or parameters will be removed when rendering to LaTeX to ensure consistency."
   ]
  },
  {
   "cell_type": "markdown",
   "metadata": {},
   "source": [
    "\n",
    "##Saving and Default Directories\n",
    "\n",
    "Whenever any analysis tool is used for the first time on a specific model, a directory is created within the PySCeS output directory that corresponds to the model name. A second directory which corresponds to the analysis tool name will be created within the first. These directories serve a dual purpose:\n",
    "\n",
    "The fist, and most pertinent to the user, is for providing a default location for saving results. PySCeSToolbox allows users to save results to any arbitrary location on the file system, however when no location is provided, results will be saved to the default directory corresponding to the model name and analysis method as described above.  We consider this a fairly intuitive and convenient system that is especially useful for outputting small sets of results. Result saving functionality is usually provided by a `save_results` method for each respective analysis tool. Exceptions are `RateChar` where multiple types of results may be saved, each with their own method, and `ScanFig` where figures are saved simply with a `save` method.\n",
    "\n",
    "The second purpose is to provide a location for writing temporary files and internal data that is used to save “analysis sessions” for later loading. In this case specifying the output destination is not supported in most cases and these features depend on the default directory. Session saving functionality is provided only for tools that take significant amounts of time to generate results and will always be provided by a `save_session` method  and a corresponding `load_session` method will read these results from disk.\n",
    "\n",
    ".. note:: Depending on your OS the default PySCeS directory will be either `~/Pysces` or `C:\\Pysces`. PySCeSToolbox will therefore create the following type of folder structure: `~/Pysces/model_name/analysis_method/` or `C:\\Pysces\\model_name\\analysis_method\\`"
   ]
  },
  {
   "cell_type": "markdown",
   "metadata": {},
   "source": [
    "##Plotting and Displaying Results\n",
    "\n",
    "As already mentioned previously, PySCeSToolbox includes the functionality to plot results generated by its tools. Typically these plots will either contain results from a parameter scan where some metabolic variables are plotted against a change in parameter, or they will contain results from a time simulation where the evolution of metabolic variables over a certain time period are plotted. "
   ]
  },
  {
   "cell_type": "markdown",
   "metadata": {},
   "source": [
    "###Data2D\n",
    "\n",
    "The `Data2D` class provides functionality for capturing raw parameter scan/simulation results and provides an interface to the actual plotting tool `ScanFig.` It is used internally by other tools in PySCeSToolbox and a `Data2D` object will be created and returned automatically after performing a parameter scan with any of the `do_par_scan` methods provided by these tools. \n",
    "\n",
    "####Features\n",
    "\n",
    "* Access to scan/simulation results through its `scan_results` dictionary.\n",
    "* The ability to save results in the form of a `csv` file using the `save_results` method. \n",
    "* The ability to generate a `ScanFig` object via the `plot` method.\n",
    "\n",
    "\n",
    "####Usage example\n",
    "Below is an usage example of Data2D, where results from a PySCeS parameter scan are saved to a \n",
    " object."
   ]
  },
  {
   "cell_type": "code",
   "execution_count": 2,
   "metadata": {
    "collapsed": false
   },
   "outputs": [
    {
     "name": "stdout",
     "output_type": "stream",
     "text": [
      "Assuming extension is .psc\n",
      "Using model directory: /home/carl/Pysces/psc\n",
      "/home/carl/Pysces/psc/example_model.psc loading ..... \n",
      "Parsing file: /home/carl/Pysces/psc/example_model.psc\n",
      " \n",
      "Calculating L matrix . . . . . . .  done.\n",
      "Calculating K matrix . . . . . . .  done.\n",
      " \n",
      "\n",
      "Scanning ...\n",
      "100 80 60 40 20 0 \n",
      "done.\n",
      "\n"
     ]
    }
   ],
   "source": [
    "# PySCeS model instantiation using the `example_model.py` file\n",
    "# with name `mod`\n",
    "mod = pysces.model('example_model')\n",
    "mod.SetQuiet()\n",
    "\n",
    "# Parameter scan setup and execution\n",
    "# Here we are changing the value of `Vf2` over logarithmic\n",
    "# scale from `log10(1)` (or 0) to log10(100) (or 2) for a\n",
    "# 100 points. \n",
    "mod.scan_in = 'Vf2'\n",
    "mod.scan_out = ['J_R1','J_R2','J_R3']\n",
    "mod.Scan1(numpy.logspace(0,2,100))\n",
    "\n",
    "# Instantiation of `Data2D` object with name `scan_data`\n",
    "column_names = [mod.scan_in] + mod.scan_out\n",
    "\n",
    "scan_data = psctb.utils.plotting.Data2D(mod=mod,\n",
    "                                        column_names=column_names,\n",
    "                                        data_array=mod.scan_res)"
   ]
  },
  {
   "cell_type": "markdown",
   "metadata": {},
   "source": [
    "Results that can be accessed via `scan_results`:"
   ]
  },
  {
   "cell_type": "code",
   "execution_count": 3,
   "metadata": {
    "collapsed": false
   },
   "outputs": [
    {
     "data": {
      "text/plain": [
       "['scan_in', 'scan_points', 'scan_out', 'scan_results', 'scan_range']"
      ]
     },
     "execution_count": 3,
     "metadata": {},
     "output_type": "execute_result"
    }
   ],
   "source": [
    "# Each key represents a field through which results can be accessed\n",
    "scan_data.scan_results.keys()"
   ]
  },
  {
   "cell_type": "markdown",
   "metadata": {},
   "source": [
    "e.g. The first 10 data points for the scan results:"
   ]
  },
  {
   "cell_type": "code",
   "execution_count": 4,
   "metadata": {
    "collapsed": false
   },
   "outputs": [
    {
     "data": {
      "text/plain": [
       "array([[ 10.92333359,   0.97249011,   9.95084348],\n",
       "       [ 10.96942935,   1.01871933,   9.95071002],\n",
       "       [ 11.01771234,   1.06714226,   9.95057008],\n",
       "       [ 11.06828593,   1.1178626 ,   9.95042334],\n",
       "       [ 11.12125839,   1.17098892,   9.95026946],\n",
       "       [ 11.176743  ,   1.2266349 ,   9.9501081 ],\n",
       "       [ 11.23485838,   1.28491951,   9.94993887],\n",
       "       [ 11.29572869,   1.34596731,   9.94976138],\n",
       "       [ 11.35948389,   1.40990867,   9.94957522],\n",
       "       [ 11.42626002,   1.47688006,   9.94937996]])"
      ]
     },
     "execution_count": 4,
     "metadata": {},
     "output_type": "execute_result"
    }
   ],
   "source": [
    "scan_data.scan_results.scan_results[:10,:]"
   ]
  },
  {
   "cell_type": "markdown",
   "metadata": {},
   "source": [
    "Results can be saved using the default path as discussed in *#Saving and default directories#* with the `save_results` method:"
   ]
  },
  {
   "cell_type": "code",
   "execution_count": 5,
   "metadata": {
    "collapsed": true
   },
   "outputs": [],
   "source": [
    "scan_data.save_results()"
   ]
  },
  {
   "cell_type": "markdown",
   "metadata": {},
   "source": [
    "Or they can be saved to a specified location:"
   ]
  },
  {
   "cell_type": "code",
   "execution_count": 6,
   "metadata": {
    "collapsed": true
   },
   "outputs": [],
   "source": [
    "# This path leads to the home directory\n",
    "data_file_name = path.expanduser('~/example_mod_Vf2_scan.csv')\n",
    "scan_data.save_results(file_name=data_file_name)"
   ]
  },
  {
   "cell_type": "markdown",
   "metadata": {
    "collapsed": true
   },
   "source": [
    "Finally, a `ScanFig` object can be created using the `plot` method:"
   ]
  },
  {
   "cell_type": "code",
   "execution_count": 7,
   "metadata": {
    "collapsed": true
   },
   "outputs": [],
   "source": [
    "# Instantiation of `ScanFig` object with name `scan_figure`\n",
    "scan_figure = scan_data.plot()"
   ]
  },
  {
   "cell_type": "markdown",
   "metadata": {},
   "source": [
    "###ScanFig\n",
    "\n",
    "The `ScanFig` class provides the actual plotting object. This tool allows users to display figures with results directly in the Notebook and to control which data is displayed on the figure by use of an interactive widget based interface. As mentioned and shown above they are created by the `plot` method of a Data2D object, which means that a user never has the need to instantiate ScanFig directly. \n",
    "\n",
    "####Features\n",
    "\n",
    "* Interactive plotting via the `interact` method.\n",
    "* Script based plot generation where certain lines, or categories of lines (based on the type of information they represent), can be enabled and disabled via `toggle_line` or `toggle_category` methods. \n",
    "* Saving of plots with the `save` method.\n",
    "* Customisation of figures using standard `matplotlib` functionality. \n",
    "\n",
    "####Usage Example\n",
    "\n",
    "Below is an usage example of `ScanFig` using the `scan_figure` instance created in the previous section. Here results from the parameter scan of `Vf2` as generated by `Scan1` is shown."
   ]
  },
  {
   "cell_type": "code",
   "execution_count": 8,
   "metadata": {
    "collapsed": false
   },
   "outputs": [
    {
     "data": {
      "image/png": "[encoded data removed]",
      "text/plain": [
       "<matplotlib.figure.Figure at 0x7fa4f42862d0>"
      ]
     },
     "metadata": {},
     "output_type": "display_data"
    }
   ],
   "source": [
    "scan_figure.interact()\n"
   ]
  },
  {
   "cell_type": "markdown",
   "metadata": {},
   "source": [
    "The Figure shown above is empty - to show lines we need to click on the buttons. First we will click on the `Flux Rates` button which will allow any of the lines that fall into the category `Flux Rates` to be enabled. Then we click the other buttons:"
   ]
  },
  {
   "cell_type": "code",
   "execution_count": 10,
   "metadata": {
    "collapsed": false
   },
   "outputs": [
    {
     "data": {
      "image/png": "[encoded data removed]",
      "text/plain": [
       "<matplotlib.figure.Figure at 0x7fa4f42862d0>"
      ]
     },
     "metadata": {},
     "output_type": "display_data"
    }
   ],
   "source": [
    "# The four method calls below are equivalent to clicking the category buttons\n",
    "# scan_figure.toggle_category('Flux Rates',True)\n",
    "# scan_figure.toggle_category('J_R1',True)\n",
    "# scan_figure.toggle_category('J_R2',True)\n",
    "# scan_figure.toggle_category('J_R3',True)\n",
    "\n",
    "scan_figure.interact()\n"
   ]
  },
  {
   "cell_type": "markdown",
   "metadata": {},
   "source": [
    ".. note:: Certain buttons act as filters for results that fall into their category. In the case above the `Flux Rates` button determines the visibility of the lines that fall into the `Flux Rates` category. In essence it overwrites the state of the buttons for the individual line categories. This feature is useful when multiple categories of results (species concentrations, elasticities, control patterns etc.) appear on the same plot by allowing to toggle the visibility of all the lines in a category."
   ]
  },
  {
   "cell_type": "markdown",
   "metadata": {},
   "source": [
    "We can also toggle the visibility with the `toggle_line` and `toggle_category` methods. Here `toggle_category` has the exact same effect as the buttons in the above example, while `toggle_line` bypasses any category filtering. The line and category names can be accessed via `line_names` and `category_names`:"
   ]
  },
  {
   "cell_type": "code",
   "execution_count": 12,
   "metadata": {
    "collapsed": false
   },
   "outputs": [
    {
     "name": "stdout",
     "output_type": "stream",
     "text": [
      "Line names     :  ['J_R1', 'J_R2', 'J_R3']\n",
      "Category names :  ['J_R3', 'J_R1', 'Flux Rates', 'J_R2']\n"
     ]
    }
   ],
   "source": [
    "print 'Line names     : ', scan_figure.line_names\n",
    "print 'Category names : ', scan_figure.category_names"
   ]
  },
  {
   "cell_type": "markdown",
   "metadata": {},
   "source": [
    "In the example below we set the `Flux Rates` visibility to `False`, but we set the `J_R1` line visibility to `True`. Finally we use the `show` method instead of `interact` to display the figure. "
   ]
  },
  {
   "cell_type": "code",
   "execution_count": 13,
   "metadata": {
    "collapsed": false
   },
   "outputs": [
    {
     "data": {
      "image/png": "[encoded data removed]",
      "text/plain": [
       "<matplotlib.figure.Figure at 0x7fa4f42862d0>"
      ]
     },
     "metadata": {},
     "output_type": "display_data"
    }
   ],
   "source": [
    "scan_figure.toggle_category('Flux Rates',False)\n",
    "scan_figure.toggle_line('J_R1',True)\n",
    "scan_figure.show()"
   ]
  },
  {
   "cell_type": "markdown",
   "metadata": {},
   "source": [
    "The figure axes can also be adjusted via the `adjust_figure` method. Recall that the `Vf2` scan was performed for a logarithmic scale rather than a linear scale. We will therefore set the x axis to log and its minimum value to `1`. These settings are applied by clicking the `Apply` button. "
   ]
  },
  {
   "cell_type": "code",
   "execution_count": 14,
   "metadata": {
    "collapsed": false
   },
   "outputs": [
    {
     "data": {
      "image/png": "[encoded data removed]",
      "text/plain": [
       "<matplotlib.figure.Figure at 0x7fa4f42862d0>"
      ]
     },
     "metadata": {},
     "output_type": "display_data"
    }
   ],
   "source": [
    "scan_figure.adjust_figure()\n"
   ]
  },
  {
   "cell_type": "markdown",
   "metadata": {},
   "source": [
    "The underlying `matplotlib` objects can be accessed through the `fig` and `ax` fields for the figure and axes, respectively. This allows for manipulation of the figures using `matplotlib's` functionality. "
   ]
  },
  {
   "cell_type": "code",
   "execution_count": 16,
   "metadata": {
    "collapsed": false
   },
   "outputs": [
    {
     "data": {
      "image/png": "[encoded data removed]",
      "text/plain": [
       "<matplotlib.figure.Figure at 0x7fa4f42862d0>"
      ]
     },
     "metadata": {},
     "output_type": "display_data"
    }
   ],
   "source": [
    "scan_figure.fig.set_size_inches((6,4))\n",
    "scan_figure.ax.set_ylabel('Rate')\n",
    "scan_figure.line_names\n",
    "scan_figure.show()"
   ]
  },
  {
   "cell_type": "markdown",
   "metadata": {},
   "source": [
    "Finally the plot can be saved using the `save` method (or equivalently by pressing the `save` button) without specifying a path where the file will be saved as an `svg` vector image to the default directory as discussed under *#Saving and default directories#*:"
   ]
  },
  {
   "cell_type": "code",
   "execution_count": 17,
   "metadata": {
    "collapsed": true
   },
   "outputs": [],
   "source": [
    "scan_figure.save()"
   ]
  },
  {
   "cell_type": "markdown",
   "metadata": {},
   "source": [
    "A file name together with desired extension (and image format) can also be specified:"
   ]
  },
  {
   "cell_type": "code",
   "execution_count": 18,
   "metadata": {
    "collapsed": false
   },
   "outputs": [],
   "source": [
    "# This path leads to the home directory\n",
    "fig_file_name = path.expanduser('~/example_mod_Vf2_scan.png')\n",
    "scan_figure.save(file_name=fig_file_name)"
   ]
  },
  {
   "cell_type": "markdown",
   "metadata": {},
   "source": [
    "###Tables\n",
    "\n",
    "In PySCeSToolbox, results are frequently stored in an dictionary-like structure belonging to an analysis object. In most cases the dictionary will be named with `_results` appended to the type of results (e.g. Control coefficient results in `SymCa` are saved as `cc_results` while the parametrised internal metabolite scan results of `RateChar` are saved as `scan_results`). \n",
    "\n",
    "In most cases the results stored are structured so that a single dictionary key is mapped to a single result (or result object). In these cases simply inspecting the variable in the IPython/Jupyter Notebook displays these results in an html style table where the variable name is displayed together with it's value e.g. for `cc_results` each control coefficient will be displayed next to its value at steady-state. \n",
    "\n",
    "Finally, any 2D data-structure commonly used in together with PyCSeS and PySCeSToolbox can be displayed as an html table (e.g. list of lists, NumPy arrays, SymPy matrices). \n",
    "\n",
    "####Usage Example\n",
    "\n",
    "Below we will construct a list of lists and display it as an html table.Captions can be either plain text or contain html tags."
   ]
  },
  {
   "cell_type": "code",
   "execution_count": 19,
   "metadata": {
    "collapsed": true
   },
   "outputs": [],
   "source": [
    "list_of_lists = [['a','b','c'],[1.2345,0.6789,0.0001011],[12,13,14]]"
   ]
  },
  {
   "cell_type": "code",
   "execution_count": 20,
   "metadata": {
    "collapsed": false
   },
   "outputs": [
    {
     "data": {
      "text/html": [
       "<table><caption>Example</caption><tr><td>a</td><td>b</td><td>c</td></tr><tr><td>1.23</td><td>0.68</td><td>0.00</td></tr><tr><td>12.00</td><td>13.00</td><td>14.00</td></tr></table>"
      ],
      "text/plain": [
       "<IPython.core.display.HTML object>"
      ]
     },
     "execution_count": 20,
     "metadata": {},
     "output_type": "execute_result"
    }
   ],
   "source": [
    "psctb.utils.misc.html_table(list_of_lists,\n",
    "                            caption='Example')"
   ]
  },
  {
   "cell_type": "markdown",
   "metadata": {},
   "source": [
    "By default floats are all formatted according to the argument `float_fmt` which defaults to `%.2f` (using the standard Python formatter string syntax). A formatter function can be passed to as the `formatter` argument which allows for more customisation. \n",
    "\n",
    "Below we instantiate such a formatter using the `formatter_factory` function. Here all float values falling within the range set up by `min_val` and `max_val` (which includes the minimum, but excludes the maximum) will be formatted according to `default_fmt`, while outliers will be formatted according to `outlier_fmt`."
   ]
  },
  {
   "cell_type": "code",
   "execution_count": 21,
   "metadata": {
    "collapsed": true
   },
   "outputs": [],
   "source": [
    "formatter = psctb.utils.misc.formatter_factory(min_val=0.1,\n",
    "                                               max_val=10,\n",
    "                                               default_fmt='%.1f',\n",
    "                                               outlier_fmt='%.2e')"
   ]
  },
  {
   "cell_type": "markdown",
   "metadata": {},
   "source": [
    "The constructed `formatter` takes a number (e.g. float, int, etc.) as argument and returns a formatter string according to the previously setup parameters. "
   ]
  },
  {
   "cell_type": "code",
   "execution_count": 22,
   "metadata": {
    "collapsed": false
   },
   "outputs": [
    {
     "name": "stdout",
     "output_type": "stream",
     "text": [
      "9.00e-02\n",
      "0.1\n",
      "2.0\n",
      "9.0\n",
      "1.00e+01\n"
     ]
    }
   ],
   "source": [
    "print formatter(0.09) # outlier\n",
    "print formatter(0.1)  # min for default\n",
    "print formatter(2)    # within range for default\n",
    "print formatter(9)    # max int for default\n",
    "print formatter(10)   # outlier"
   ]
  },
  {
   "cell_type": "markdown",
   "metadata": {},
   "source": [
    "Using this `formatter` with the previously constructed `list_of_lists` lead to a differently formatted html representation of the data:"
   ]
  },
  {
   "cell_type": "code",
   "execution_count": 23,
   "metadata": {
    "collapsed": false
   },
   "outputs": [
    {
     "data": {
      "text/html": [
       "<table><caption>Example</caption><tr><th>a</th><th>b</th><th>c</th></tr><tr><td>1.2</td><td>0.7</td><td>1.01e-04</td></tr><tr><td>1.20e+01</td><td>1.30e+01</td><td>1.40e+01</td></tr></table>"
      ],
      "text/plain": [
       "<IPython.core.display.HTML object>"
      ]
     },
     "execution_count": 23,
     "metadata": {},
     "output_type": "execute_result"
    }
   ],
   "source": [
    "psctb.utils.misc.html_table(list_of_lists, \n",
    "                            caption='Example',\n",
    "                            formatter=formatter,    # Previously constructed formatter\n",
    "                            first_row_headers=True) # The first row can be set as the header"
   ]
  },
  {
   "cell_type": "markdown",
   "metadata": {},
   "source": [
    "##Graphic Representation of Metabolic Networks\n",
    "\n",
    "PySCeSToolbox includes functionality for displaying interactive graph representations of metabolic networks through the `ModelGraph` tool. The main purpose of this feature is to allow for the visualisation of control patterns in `SymCa`. Currently, this tool is fairly limited in terms of its capabilities and therefore does not represent a replacement for more fully featured tools such as (cell designer? Or ???). One such limitation is that no automatic layout capabilities are included, and nodes representing species and concentrations have to be laid out by hand. Nonetheless it is useful for quickly visualising the structure of  pathway and, as previously mentioned, for visualising the importance of various control patterns in `SymCa`. \n",
    "\n",
    "###Features\n",
    "\n",
    "* Displays interactive (d3.js based) reaction networks in the notebook.\n",
    "* Layouts can be saved and applied to other similar networks.\n",
    "\n",
    "###Usage Example\n",
    "\n",
    "The main use case is for visualising control patterns. However, `ModelGraph` can be used in this capacity, the graph layout has to be defined. Below we will set up the layout for the `example_model`."
   ]
  },
  {
   "cell_type": "markdown",
   "metadata": {},
   "source": [
    "First we load the model and instantiate a `ModelGraph` object using the model. The show method displays the graph."
   ]
  },
  {
   "cell_type": "code",
   "execution_count": 24,
   "metadata": {
    "collapsed": true
   },
   "outputs": [],
   "source": [
    "model_graph = psctb.ModelGraph(mod)\n"
   ]
  },
  {
   "cell_type": "markdown",
   "metadata": {},
   "source": [
    "Unless a layout has been previously defined, the species and reaction nodes will be placed randomly. Nodes are snap to an invisible grid. "
   ]
  },
  {
   "cell_type": "code",
   "execution_count": 25,
   "metadata": {
    "collapsed": false
   },
   "outputs": [],
   "source": [
    "model_graph.show()"
   ]
  },
  {
   "cell_type": "markdown",
   "metadata": {},
   "source": [
    "A layout file for the `example_model` is [included](included_files.html#layout-file) (see link for details) and can be loaded by specifying the location of the layout file on the disk during `ModelGraph` instantiation.  "
   ]
  },
  {
   "cell_type": "code",
   "execution_count": 27,
   "metadata": {
    "collapsed": false
   },
   "outputs": [],
   "source": [
    "# This path leads to the provided layout file \n",
    "path_to_layout = path.expanduser('~/Pysces/psc/example_model_layout.dict')\n",
    "model_graph = psctb.ModelGraph(mod, pos_dic=path_to_layout)\n",
    "model_graph.show()"
   ]
  },
  {
   "cell_type": "markdown",
   "metadata": {},
   "source": [
    "Clicking the `Save Layout` button saves this layout to the `~/Pysces/example_model/model_graph` or `C:\\\\Pysces\\example_model\\model_graph` directory for later use. The `Save Image` Button wil save an svg image of the graph to the same location."
   ]
  },
  {
   "cell_type": "markdown",
   "metadata": {},
   "source": [
    "Now any future instantiation of a `ModelGraph` object for `example_model` will use the saved layout automatically. "
   ]
  },
  {
   "cell_type": "code",
   "execution_count": 29,
   "metadata": {
    "collapsed": true
   },
   "outputs": [],
   "source": [
    "model_graph = psctb.ModelGraph(mod)\n",
    "model_graph.show()"
   ]
  }
 ],
 "metadata": {
  "kernelspec": {
   "display_name": "Python 2",
   "language": "python",
   "name": "python2"
  },
  "language_info": {
   "codemirror_mode": {
    "name": "ipython",
    "version": 2
   },
   "file_extension": ".py",
   "mimetype": "text/x-python",
   "name": "python",
   "nbconvert_exporter": "python",
   "pygments_lexer": "ipython2",
   "version": "2.7.12"
  }
 },
 "nbformat": 4,
 "nbformat_minor": 0
}
