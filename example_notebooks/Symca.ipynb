{
 "cells": [
  {
   "cell_type": "code",
   "execution_count": null,
   "metadata": {},
   "outputs": [],
   "source": [
    "notebook_dir = %pwd                                                     \n",
    "import pysces                                                           \n",
    "import psctb                                                            \n",
    "import numpy                                                            \n",
    "from os import path                                                     \n",
    "from IPython.display import display, Image                              \n",
    "from sys import platform                                                \n",
    "%matplotlib inline                               "
   ]
  },
  {
   "cell_type": "markdown",
   "metadata": {},
   "source": [
    "# Symca\n",
    "\n",
    "Symca is used to perform symbolic metabolic control analysis [[3,4]](references.html) on metabolic pathway models in order to dissect the control properties of these pathways in terms of the different chains of local effects (or control patterns) that make up the total control coefficient values. Symbolic/algebraic expressions are generated for each control coefficient in a pathway which can be subjected to further analysis.\n",
    "\n",
    "## Features\n",
    "\n",
    "* Generates symbolic expressions for each control coefficient of a metabolic pathway model. \n",
    "* Splits control coefficients into control patterns that indicate the contribution of different chains of local effects.\n",
    "* Control coefficient and control pattern expressions can be manipulated using standard `SymPy` functionality. \n",
    "* Values of control coefficient and control pattern values are determined automatically and updated automatically following the calculation of standard (non-symbolic) control coefficient values subsequent to a parameter alteration.\n",
    "* Analysis sessions (raw expression data) can be saved to disk for later use. \n",
    "* The effect of parameter scans on control coefficient and control patters can be generated and displayed using `ScanFig`.\n",
    "* Visualisation of control patterns by using `ModelGraph` functionality.\n",
    "* Saving/loading of `Symca` sessions.\n",
    "* Saving of control pattern results.\n",
    "\n",
    "## Usage and feature walkthrough\n",
    "\n",
    "### Workflow\n",
    "\n",
    "Performing symbolic control analysis with `Symca` usually requires the following steps:\n",
    "\n",
    "1. Instantiation of a `Symca` object using a `PySCeS` model object.\n",
    "2. Generation of symbolic control coefficient expressions.\n",
    "3. Access generated control coefficient expression results via `cc_results` and the corresponding control coefficient name (see [Basic Usage](basic_usage.ipynb#syntax))\n",
    "4. Inspection of control coefficient values.\n",
    "5. Inspection of control pattern values and their contributions towards the total control coefficient values. \n",
    "6. Inspection of the effect of parameter changes (parameter scans) on the values of control coefficients and control patterns and the contribution of control patterns towards control coefficients.\n",
    "7. Session/result saving if required\n",
    "8. Further analysis.\n",
    "\n",
    "### Object instantiation\n",
    "\n",
    "Instantiation of a `Symca` analysis object requires `PySCeS` model object (`PysMod`) as an argument. Using the included [lin4_fb.psc](included_files.html#lin4-fb-psc) model a `Symca` session is instantiated as follows:\n"
   ]
  },
  {
   "cell_type": "code",
   "execution_count": 3,
   "metadata": {},
   "outputs": [
    {
     "name": "stdout",
     "output_type": "stream",
     "text": [
      "Assuming extension is .psc\n",
      "Using model directory: /home/jr/Pysces/psc\n",
      "/home/jr/Pysces/psc/lin4_fb.psc loading ..... \n",
      "Parsing file: /home/jr/Pysces/psc/lin4_fb.psc\n",
      "Info: \"X4\" has been initialised but does not occur in a rate equation\n",
      " \n",
      "Calculating L matrix . . . . . . .  done.\n",
      "Calculating K matrix . . . . . . .  done.\n",
      " \n",
      "(hybrd) The solution converged.\n"
     ]
    }
   ],
   "source": [
    "mod = pysces.model('lin4_fb')\n",
    "sc = psctb.Symca(mod)"
   ]
  },
  {
   "cell_type": "markdown",
   "metadata": {},
   "source": [
    "Additionally `Symca` has the following arguments:\n",
    "\n",
    "* `internal_fixed`: This must be set to `True` in the case where an internal metabolite has a fixed concentration *(default: `False`)*\n",
    "* `auto_load`: If `True` `Symca` will try to load a previously saved session. Saved data is unaffected by the `internal_fixed` argument above *(default: `False`)*."
   ]
  },
  {
   "cell_type": "markdown",
   "metadata": {},
   "source": [
    ".. note:: For the case where an internal metabolite is fixed see [Fixed internal metabolites](Symca.ipynb#fixed-internal-metabolites) below."
   ]
  },
  {
   "cell_type": "markdown",
   "metadata": {},
   "source": [
    "### Generating symbolic control coefficient expressions\n",
    "\n",
    "Control coefficient expressions can be generated as soon as a `Symca` object has been instantiated using the `do_symca` method. This process can potentially take quite some time to complete, therefore we recommend saving the generated expressions for later loading (see [Saving/Loading Sessions](Symca.ipynb#saving-loading-sessions) below). In the case of `lin4_fb.psc` expressions should be generated within a few seconds."
   ]
  },
  {
   "cell_type": "code",
   "execution_count": 4,
   "metadata": {},
   "outputs": [
    {
     "name": "stdout",
     "output_type": "stream",
     "text": [
      "Simplifying matrix with 28 elements\n",
      "****************************\n"
     ]
    }
   ],
   "source": [
    "sc.do_symca()"
   ]
  },
  {
   "cell_type": "markdown",
   "metadata": {},
   "source": [
    "`do_symca` has the following arguments:\n",
    "\n",
    "* `internal_fixed`: This must be set to `True` in the case where an internal metabolite has a fixed concentration *(default: `False`)*\n",
    "* `auto_save_load`: If set to `True` `Symca` will attempt to load a previously saved session and only generate new expressions in case of a failure. After generation of new results, these results will be saved instead. Setting `internal_fixed` to `True` does not affect previously saved results that were generated with this argument set to `False` *(default: `False`)*."
   ]
  },
  {
   "cell_type": "markdown",
   "metadata": {},
   "source": [
    "### Accessing control coefficient expressions\n",
    "\n",
    "Generated results may be accessed via a dictionary-like `cc_results` object (see [Basic Usage - Tables](basic_usage.ipynb#tables)). Inspecting this `cc_results` object in a IPython/Jupyter notebook yields a table of control coefficient values:"
   ]
  },
  {
   "cell_type": "code",
   "execution_count": 5,
   "metadata": {},
   "outputs": [
    {
     "data": {
      "text/html": [
       "<div><table  style=\"display: inline-table\"><tr><td>$C^{JR1}_{R1}$</td><td>0.036</td></tr><tr><td>$C^{JR1}_{R2}$</td><td>3.090e-06</td></tr><tr><td>$C^{JR1}_{R3}$</td><td>1.657e-06</td></tr><tr><td>$C^{JR1}_{R4}$</td><td>0.964</td></tr><tr><td>$C^{JR2}_{R1}$</td><td>0.036</td></tr><tr><td>$C^{JR2}_{R2}$</td><td>3.090e-06</td></tr><tr><td>$C^{JR2}_{R3}$</td><td>1.657e-06</td></tr><tr><td>$C^{JR2}_{R4}$</td><td>0.964</td></tr><tr><td>$C^{JR3}_{R1}$</td><td>0.036</td></tr><tr><td>$C^{JR3}_{R2}$</td><td>3.090e-06</td></tr></table>\t\t<table  style=\"display: inline-table\"><tr><td>$C^{JR3}_{R3}$</td><td>1.657e-06</td></tr><tr><td>$C^{JR3}_{R4}$</td><td>0.964</td></tr><tr><td>$C^{JR4}_{R1}$</td><td>0.036</td></tr><tr><td>$C^{JR4}_{R2}$</td><td>3.090e-06</td></tr><tr><td>$C^{JR4}_{R3}$</td><td>1.657e-06</td></tr><tr><td>$C^{JR4}_{R4}$</td><td>0.964</td></tr><tr><td>$C^{S1}_{R1}$</td><td>0.323</td></tr><tr><td>$C^{S1}_{R2}$</td><td>-0.092</td></tr><tr><td>$C^{S1}_{R3}$</td><td>-0.049</td></tr><tr><td>$C^{S1}_{R4}$</td><td>-0.182</td></tr></table>\t\t<table  style=\"display: inline-table\"><tr><td>$C^{S2}_{R1}$</td><td>0.335</td></tr><tr><td>$C^{S2}_{R2}$</td><td>2.885e-05</td></tr><tr><td>$C^{S2}_{R3}$</td><td>-0.052</td></tr><tr><td>$C^{S2}_{R4}$</td><td>-0.284</td></tr><tr><td>$C^{S3}_{R1}$</td><td>0.334</td></tr><tr><td>$C^{S3}_{R2}$</td><td>2.871e-05</td></tr><tr><td>$C^{S3}_{R3}$</td><td>1.539e-05</td></tr><tr><td>$C^{S3}_{R4}$</td><td>-0.334</td></tr><tr><td>$\\Sigma$</td><td>631.138</td></tr></table>\t\t</div>"
      ],
      "text/plain": [
       "{'common_denominator': -ecR1_S1*ecR2_S2*ecR3_S3 + ecR1_S1*ecR2_S2*ecR4_S3 - ecR1_S1*ecR3_S2*ecR4_S3 - ecR1_S3*ecR2_S1*ecR3_S2 + ecR2_S1*ecR3_S2*ecR4_S3,\n",
       " 'ccJR4_R4': (-ecR1_S1*ecR2_S2*ecR3_S3 - ecR1_S3*ecR2_S1*ecR3_S2)/(-ecR1_S1*ecR2_S2*ecR3_S3 + ecR1_S1*ecR2_S2*ecR4_S3 - ecR1_S1*ecR3_S2*ecR4_S3 - ecR1_S3*ecR2_S1*ecR3_S2 + ecR2_S1*ecR3_S2*ecR4_S3),\n",
       " 'ccJR4_R3': ecR1_S1*ecR2_S2*ecR4_S3/(-ecR1_S1*ecR2_S2*ecR3_S3 + ecR1_S1*ecR2_S2*ecR4_S3 - ecR1_S1*ecR3_S2*ecR4_S3 - ecR1_S3*ecR2_S1*ecR3_S2 + ecR2_S1*ecR3_S2*ecR4_S3),\n",
       " 'ccJR4_R2': -ecR1_S1*ecR3_S2*ecR4_S3/(-ecR1_S1*ecR2_S2*ecR3_S3 + ecR1_S1*ecR2_S2*ecR4_S3 - ecR1_S1*ecR3_S2*ecR4_S3 - ecR1_S3*ecR2_S1*ecR3_S2 + ecR2_S1*ecR3_S2*ecR4_S3),\n",
       " 'ccJR4_R1': ecR2_S1*ecR3_S2*ecR4_S3/(-ecR1_S1*ecR2_S2*ecR3_S3 + ecR1_S1*ecR2_S2*ecR4_S3 - ecR1_S1*ecR3_S2*ecR4_S3 - ecR1_S3*ecR2_S1*ecR3_S2 + ecR2_S1*ecR3_S2*ecR4_S3),\n",
       " 'ccJR3_R4': (-ecR1_S1*ecR2_S2*ecR3_S3 - ecR1_S3*ecR2_S1*ecR3_S2)/(-ecR1_S1*ecR2_S2*ecR3_S3 + ecR1_S1*ecR2_S2*ecR4_S3 - ecR1_S1*ecR3_S2*ecR4_S3 - ecR1_S3*ecR2_S1*ecR3_S2 + ecR2_S1*ecR3_S2*ecR4_S3),\n",
       " 'ccJR3_R3': ecR1_S1*ecR2_S2*ecR4_S3/(-ecR1_S1*ecR2_S2*ecR3_S3 + ecR1_S1*ecR2_S2*ecR4_S3 - ecR1_S1*ecR3_S2*ecR4_S3 - ecR1_S3*ecR2_S1*ecR3_S2 + ecR2_S1*ecR3_S2*ecR4_S3),\n",
       " 'ccJR3_R2': -ecR1_S1*ecR3_S2*ecR4_S3/(-ecR1_S1*ecR2_S2*ecR3_S3 + ecR1_S1*ecR2_S2*ecR4_S3 - ecR1_S1*ecR3_S2*ecR4_S3 - ecR1_S3*ecR2_S1*ecR3_S2 + ecR2_S1*ecR3_S2*ecR4_S3),\n",
       " 'ccJR3_R1': ecR2_S1*ecR3_S2*ecR4_S3/(-ecR1_S1*ecR2_S2*ecR3_S3 + ecR1_S1*ecR2_S2*ecR4_S3 - ecR1_S1*ecR3_S2*ecR4_S3 - ecR1_S3*ecR2_S1*ecR3_S2 + ecR2_S1*ecR3_S2*ecR4_S3),\n",
       " 'ccJR2_R4': (-ecR1_S1*ecR2_S2*ecR3_S3 - ecR1_S3*ecR2_S1*ecR3_S2)/(-ecR1_S1*ecR2_S2*ecR3_S3 + ecR1_S1*ecR2_S2*ecR4_S3 - ecR1_S1*ecR3_S2*ecR4_S3 - ecR1_S3*ecR2_S1*ecR3_S2 + ecR2_S1*ecR3_S2*ecR4_S3),\n",
       " 'ccJR2_R3': ecR1_S1*ecR2_S2*ecR4_S3/(-ecR1_S1*ecR2_S2*ecR3_S3 + ecR1_S1*ecR2_S2*ecR4_S3 - ecR1_S1*ecR3_S2*ecR4_S3 - ecR1_S3*ecR2_S1*ecR3_S2 + ecR2_S1*ecR3_S2*ecR4_S3),\n",
       " 'ccJR2_R2': -ecR1_S1*ecR3_S2*ecR4_S3/(-ecR1_S1*ecR2_S2*ecR3_S3 + ecR1_S1*ecR2_S2*ecR4_S3 - ecR1_S1*ecR3_S2*ecR4_S3 - ecR1_S3*ecR2_S1*ecR3_S2 + ecR2_S1*ecR3_S2*ecR4_S3),\n",
       " 'ccJR2_R1': ecR2_S1*ecR3_S2*ecR4_S3/(-ecR1_S1*ecR2_S2*ecR3_S3 + ecR1_S1*ecR2_S2*ecR4_S3 - ecR1_S1*ecR3_S2*ecR4_S3 - ecR1_S3*ecR2_S1*ecR3_S2 + ecR2_S1*ecR3_S2*ecR4_S3),\n",
       " 'ccJR1_R4': (-ecR1_S1*ecR2_S2*ecR3_S3 - ecR1_S3*ecR2_S1*ecR3_S2)/(-ecR1_S1*ecR2_S2*ecR3_S3 + ecR1_S1*ecR2_S2*ecR4_S3 - ecR1_S1*ecR3_S2*ecR4_S3 - ecR1_S3*ecR2_S1*ecR3_S2 + ecR2_S1*ecR3_S2*ecR4_S3),\n",
       " 'ccJR1_R3': ecR1_S1*ecR2_S2*ecR4_S3/(-ecR1_S1*ecR2_S2*ecR3_S3 + ecR1_S1*ecR2_S2*ecR4_S3 - ecR1_S1*ecR3_S2*ecR4_S3 - ecR1_S3*ecR2_S1*ecR3_S2 + ecR2_S1*ecR3_S2*ecR4_S3),\n",
       " 'ccJR1_R2': -ecR1_S1*ecR3_S2*ecR4_S3/(-ecR1_S1*ecR2_S2*ecR3_S3 + ecR1_S1*ecR2_S2*ecR4_S3 - ecR1_S1*ecR3_S2*ecR4_S3 - ecR1_S3*ecR2_S1*ecR3_S2 + ecR2_S1*ecR3_S2*ecR4_S3),\n",
       " 'ccJR1_R1': ecR2_S1*ecR3_S2*ecR4_S3/(-ecR1_S1*ecR2_S2*ecR3_S3 + ecR1_S1*ecR2_S2*ecR4_S3 - ecR1_S1*ecR3_S2*ecR4_S3 - ecR1_S3*ecR2_S1*ecR3_S2 + ecR2_S1*ecR3_S2*ecR4_S3),\n",
       " 'ccS2_R4': (-ecR1_S1*ecR3_S3 - ecR1_S3*ecR2_S1 + ecR2_S1*ecR3_S3)/(-ecR1_S1*ecR2_S2*ecR3_S3 + ecR1_S1*ecR2_S2*ecR4_S3 - ecR1_S1*ecR3_S2*ecR4_S3 - ecR1_S3*ecR2_S1*ecR3_S2 + ecR2_S1*ecR3_S2*ecR4_S3),\n",
       " 'ccS2_R3': (ecR1_S1*ecR4_S3 + ecR1_S3*ecR2_S1 - ecR2_S1*ecR4_S3)/(-ecR1_S1*ecR2_S2*ecR3_S3 + ecR1_S1*ecR2_S2*ecR4_S3 - ecR1_S1*ecR3_S2*ecR4_S3 - ecR1_S3*ecR2_S1*ecR3_S2 + ecR2_S1*ecR3_S2*ecR4_S3),\n",
       " 'ccS2_R2': (ecR1_S1*ecR3_S3 - ecR1_S1*ecR4_S3)/(-ecR1_S1*ecR2_S2*ecR3_S3 + ecR1_S1*ecR2_S2*ecR4_S3 - ecR1_S1*ecR3_S2*ecR4_S3 - ecR1_S3*ecR2_S1*ecR3_S2 + ecR2_S1*ecR3_S2*ecR4_S3),\n",
       " 'ccS2_R1': (-ecR2_S1*ecR3_S3 + ecR2_S1*ecR4_S3)/(-ecR1_S1*ecR2_S2*ecR3_S3 + ecR1_S1*ecR2_S2*ecR4_S3 - ecR1_S1*ecR3_S2*ecR4_S3 - ecR1_S3*ecR2_S1*ecR3_S2 + ecR2_S1*ecR3_S2*ecR4_S3),\n",
       " 'ccS1_R4': (ecR1_S3*ecR2_S2 - ecR1_S3*ecR3_S2 - ecR2_S2*ecR3_S3)/(-ecR1_S1*ecR2_S2*ecR3_S3 + ecR1_S1*ecR2_S2*ecR4_S3 - ecR1_S1*ecR3_S2*ecR4_S3 - ecR1_S3*ecR2_S1*ecR3_S2 + ecR2_S1*ecR3_S2*ecR4_S3),\n",
       " 'ccS1_R3': (-ecR1_S3*ecR2_S2 + ecR2_S2*ecR4_S3)/(-ecR1_S1*ecR2_S2*ecR3_S3 + ecR1_S1*ecR2_S2*ecR4_S3 - ecR1_S1*ecR3_S2*ecR4_S3 - ecR1_S3*ecR2_S1*ecR3_S2 + ecR2_S1*ecR3_S2*ecR4_S3),\n",
       " 'ccS1_R2': (ecR1_S3*ecR3_S2 - ecR3_S2*ecR4_S3)/(-ecR1_S1*ecR2_S2*ecR3_S3 + ecR1_S1*ecR2_S2*ecR4_S3 - ecR1_S1*ecR3_S2*ecR4_S3 - ecR1_S3*ecR2_S1*ecR3_S2 + ecR2_S1*ecR3_S2*ecR4_S3),\n",
       " 'ccS1_R1': (ecR2_S2*ecR3_S3 - ecR2_S2*ecR4_S3 + ecR3_S2*ecR4_S3)/(-ecR1_S1*ecR2_S2*ecR3_S3 + ecR1_S1*ecR2_S2*ecR4_S3 - ecR1_S1*ecR3_S2*ecR4_S3 - ecR1_S3*ecR2_S1*ecR3_S2 + ecR2_S1*ecR3_S2*ecR4_S3),\n",
       " 'ccS3_R4': (-ecR1_S1*ecR2_S2 + ecR1_S1*ecR3_S2 - ecR2_S1*ecR3_S2)/(-ecR1_S1*ecR2_S2*ecR3_S3 + ecR1_S1*ecR2_S2*ecR4_S3 - ecR1_S1*ecR3_S2*ecR4_S3 - ecR1_S3*ecR2_S1*ecR3_S2 + ecR2_S1*ecR3_S2*ecR4_S3),\n",
       " 'ccS3_R3': ecR1_S1*ecR2_S2/(-ecR1_S1*ecR2_S2*ecR3_S3 + ecR1_S1*ecR2_S2*ecR4_S3 - ecR1_S1*ecR3_S2*ecR4_S3 - ecR1_S3*ecR2_S1*ecR3_S2 + ecR2_S1*ecR3_S2*ecR4_S3),\n",
       " 'ccS3_R2': -ecR1_S1*ecR3_S2/(-ecR1_S1*ecR2_S2*ecR3_S3 + ecR1_S1*ecR2_S2*ecR4_S3 - ecR1_S1*ecR3_S2*ecR4_S3 - ecR1_S3*ecR2_S1*ecR3_S2 + ecR2_S1*ecR3_S2*ecR4_S3),\n",
       " 'ccS3_R1': ecR2_S1*ecR3_S2/(-ecR1_S1*ecR2_S2*ecR3_S3 + ecR1_S1*ecR2_S2*ecR4_S3 - ecR1_S1*ecR3_S2*ecR4_S3 - ecR1_S3*ecR2_S1*ecR3_S2 + ecR2_S1*ecR3_S2*ecR4_S3)}"
      ]
     },
     "execution_count": 5,
     "metadata": {},
     "output_type": "execute_result"
    }
   ],
   "source": [
    "sc.cc_results"
   ]
  },
  {
   "cell_type": "markdown",
   "metadata": {},
   "source": [
    "Inspecting an individual control coefficient yields a symbolic expression together with a value:"
   ]
  },
  {
   "cell_type": "code",
   "execution_count": 6,
   "metadata": {},
   "outputs": [
    {
     "data": {
      "text/latex": [
       "$C^{JR1}_{R4} = (- \\varepsilon^{R1}_{S1} \\varepsilon^{R2}_{S2} \\varepsilon^{R3}_{S3} - \\varepsilon^{R1}_{S3} \\varepsilon^{R2}_{S1} \\varepsilon^{R3}_{S2})/~\\Sigma = 0.964$"
      ],
      "text/plain": [
       "(-ecR1_S1*ecR2_S2*ecR3_S3 - ecR1_S3*ecR2_S1*ecR3_S2)/(-ecR1_S1*ecR2_S2*ecR3_S3 + ecR1_S1*ecR2_S2*ecR4_S3 - ecR1_S1*ecR3_S2*ecR4_S3 - ecR1_S3*ecR2_S1*ecR3_S2 + ecR2_S1*ecR3_S2*ecR4_S3)"
      ]
     },
     "execution_count": 6,
     "metadata": {},
     "output_type": "execute_result"
    }
   ],
   "source": [
    "sc.cc_results.ccJR1_R4"
   ]
  },
  {
   "cell_type": "markdown",
   "metadata": {},
   "source": [
    "In the above example, the expression of the control coefficient consists of two numerator terms and a common denominator shared by all the control coefficient expression signified by $\\Sigma$."
   ]
  },
  {
   "cell_type": "markdown",
   "metadata": {},
   "source": [
    "Various properties of this control coefficient can be accessed such as the:\n",
    "* Expression (as a `SymPy` expression)"
   ]
  },
  {
   "cell_type": "code",
   "execution_count": 7,
   "metadata": {},
   "outputs": [
    {
     "data": {
      "text/latex": [
       "$\\displaystyle \\frac{- ecR_{1 S1} ecR_{2 S2} ecR_{3 S3} - ecR_{1 S3} ecR_{2 S1} ecR_{3 S2}}{- ecR_{1 S1} ecR_{2 S2} ecR_{3 S3} + ecR_{1 S1} ecR_{2 S2} ecR_{4 S3} - ecR_{1 S1} ecR_{3 S2} ecR_{4 S3} - ecR_{1 S3} ecR_{2 S1} ecR_{3 S2} + ecR_{2 S1} ecR_{3 S2} ecR_{4 S3}}$"
      ],
      "text/plain": [
       "(-ecR1_S1*ecR2_S2*ecR3_S3 - ecR1_S3*ecR2_S1*ecR3_S2)/(-ecR1_S1*ecR2_S2*ecR3_S3 + ecR1_S1*ecR2_S2*ecR4_S3 - ecR1_S1*ecR3_S2*ecR4_S3 - ecR1_S3*ecR2_S1*ecR3_S2 + ecR2_S1*ecR3_S2*ecR4_S3)"
      ]
     },
     "execution_count": 7,
     "metadata": {},
     "output_type": "execute_result"
    }
   ],
   "source": [
    "sc.cc_results.ccJR1_R4.expression"
   ]
  },
  {
   "cell_type": "markdown",
   "metadata": {},
   "source": [
    "* Numerator expression (as a `SymPy` expression)"
   ]
  },
  {
   "cell_type": "code",
   "execution_count": 8,
   "metadata": {},
   "outputs": [
    {
     "data": {
      "text/latex": [
       "$\\displaystyle - ecR_{1 S1} ecR_{2 S2} ecR_{3 S3} - ecR_{1 S3} ecR_{2 S1} ecR_{3 S2}$"
      ],
      "text/plain": [
       "-ecR1_S1*ecR2_S2*ecR3_S3 - ecR1_S3*ecR2_S1*ecR3_S2"
      ]
     },
     "execution_count": 8,
     "metadata": {},
     "output_type": "execute_result"
    }
   ],
   "source": [
    "sc.cc_results.ccJR1_R4.numerator"
   ]
  },
  {
   "cell_type": "markdown",
   "metadata": {},
   "source": [
    "* Denominator expression (as a `SymPy` expression)"
   ]
  },
  {
   "cell_type": "code",
   "execution_count": 9,
   "metadata": {},
   "outputs": [
    {
     "data": {
      "text/latex": [
       "$\\displaystyle - ecR_{1 S1} ecR_{2 S2} ecR_{3 S3} + ecR_{1 S1} ecR_{2 S2} ecR_{4 S3} - ecR_{1 S1} ecR_{3 S2} ecR_{4 S3} - ecR_{1 S3} ecR_{2 S1} ecR_{3 S2} + ecR_{2 S1} ecR_{3 S2} ecR_{4 S3}$"
      ],
      "text/plain": [
       "-ecR1_S1*ecR2_S2*ecR3_S3 + ecR1_S1*ecR2_S2*ecR4_S3 - ecR1_S1*ecR3_S2*ecR4_S3 - ecR1_S3*ecR2_S1*ecR3_S2 + ecR2_S1*ecR3_S2*ecR4_S3"
      ]
     },
     "execution_count": 9,
     "metadata": {},
     "output_type": "execute_result"
    }
   ],
   "source": [
    "sc.cc_results.ccJR1_R4.denominator"
   ]
  },
  {
   "cell_type": "markdown",
   "metadata": {},
   "source": [
    "* Value (as a `float64`)"
   ]
  },
  {
   "cell_type": "code",
   "execution_count": 10,
   "metadata": {},
   "outputs": [
    {
     "data": {
      "text/plain": [
       "0.9640799846074221"
      ]
     },
     "execution_count": 10,
     "metadata": {},
     "output_type": "execute_result"
    }
   ],
   "source": [
    "sc.cc_results.ccJR1_R4.value"
   ]
  },
  {
   "cell_type": "markdown",
   "metadata": {},
   "source": [
    "Additional, less pertinent, attributes are `abs_value`, `latex_expression`, `latex_expression_full`, `latex_numerator`, `latex_name`, `name` and `denominator_object`."
   ]
  },
  {
   "cell_type": "markdown",
   "metadata": {},
   "source": [
    "The individual control coefficient numerator terms, otherwise known as control patterns, may also be accessed as follows:"
   ]
  },
  {
   "cell_type": "code",
   "execution_count": 11,
   "metadata": {},
   "outputs": [
    {
     "data": {
      "text/latex": [
       "$CP001 = - \\varepsilon^{R1}_{S1} \\varepsilon^{R2}_{S2} \\varepsilon^{R3}_{S3}/~\\Sigma = 0.000$"
      ],
      "text/plain": [
       "-ecR1_S1*ecR2_S2*ecR3_S3/(-ecR1_S1*ecR2_S2*ecR3_S3 + ecR1_S1*ecR2_S2*ecR4_S3 - ecR1_S1*ecR3_S2*ecR4_S3 - ecR1_S3*ecR2_S1*ecR3_S2 + ecR2_S1*ecR3_S2*ecR4_S3)"
      ]
     },
     "execution_count": 11,
     "metadata": {},
     "output_type": "execute_result"
    }
   ],
   "source": [
    "sc.cc_results.ccJR1_R4.CP001"
   ]
  },
  {
   "cell_type": "code",
   "execution_count": 12,
   "metadata": {},
   "outputs": [
    {
     "data": {
      "text/latex": [
       "$CP002 = - \\varepsilon^{R1}_{S3} \\varepsilon^{R2}_{S1} \\varepsilon^{R3}_{S2}/~\\Sigma = 0.964$"
      ],
      "text/plain": [
       "-ecR1_S3*ecR2_S1*ecR3_S2/(-ecR1_S1*ecR2_S2*ecR3_S3 + ecR1_S1*ecR2_S2*ecR4_S3 - ecR1_S1*ecR3_S2*ecR4_S3 - ecR1_S3*ecR2_S1*ecR3_S2 + ecR2_S1*ecR3_S2*ecR4_S3)"
      ]
     },
     "execution_count": 12,
     "metadata": {},
     "output_type": "execute_result"
    }
   ],
   "source": [
    "sc.cc_results.ccJR1_R4.CP002"
   ]
  },
  {
   "cell_type": "markdown",
   "metadata": {},
   "source": [
    "Each control pattern is numbered arbitrarily starting from 001 and has similar properties as the control coefficient object (i.e., their expression, numerator, value etc. can also be accessed).\n",
    "\n",
    "#### Control pattern percentage contribution\n",
    "\n",
    "Additionally control patterns have a `percentage` field which indicates the degree to which a particular control pattern contributes towards the overall control coefficient value:"
   ]
  },
  {
   "cell_type": "code",
   "execution_count": 13,
   "metadata": {},
   "outputs": [
    {
     "data": {
      "text/plain": [
       "0.03087580996475991"
      ]
     },
     "execution_count": 13,
     "metadata": {},
     "output_type": "execute_result"
    }
   ],
   "source": [
    "sc.cc_results.ccJR1_R4.CP001.percentage"
   ]
  },
  {
   "cell_type": "code",
   "execution_count": 14,
   "metadata": {},
   "outputs": [
    {
     "data": {
      "text/plain": [
       "99.96912419003525"
      ]
     },
     "execution_count": 14,
     "metadata": {},
     "output_type": "execute_result"
    }
   ],
   "source": [
    "sc.cc_results.ccJR1_R4.CP002.percentage"
   ]
  },
  {
   "cell_type": "markdown",
   "metadata": {},
   "source": [
    "Unlike conventional percentages, however, these values are calculated as percentage contribution towards the sum of the absolute values of all the control coefficients (rather than as the percentage of the total control coefficient value). This is done to account for situations where control pattern values have different signs.\n",
    "\n",
    "A particularly problematic example of where the above method is necessary, is a hypothetical control coefficient with a value of zero, but with two control patterns with equal value but opposite signs. In this case a conventional percentage calculation would lead to an undefined (`NaN`) result, whereas our methodology would indicate that each control pattern is equally ($50\\%$) responsible for the observed control coefficient value."
   ]
  },
  {
   "cell_type": "markdown",
   "metadata": {},
   "source": [
    "### Dynamic value updating\n",
    "\n",
    "The values of the control coefficients and their control patterns are automatically updated when new steady-state\n",
    "elasticity coefficients are calculated for the model. Thus changing a parameter of `lin4_hill`, such as the $V_{f}$ value of reaction 4, will lead to new control coefficient and control pattern values:"
   ]
  },
  {
   "cell_type": "code",
   "execution_count": 15,
   "metadata": {},
   "outputs": [
    {
     "name": "stdout",
     "output_type": "stream",
     "text": [
      "\n",
      "Parsing file: /home/jr/Pysces/psc/lin4_fb.psc\n",
      "Info: \"X4\" has been initialised but does not occur in a rate equation\n",
      " \n",
      "Calculating L matrix . . . . . . .  done.\n",
      "Calculating K matrix . . . . . . .  done.\n",
      " \n",
      "(hybrd) The solution converged.\n"
     ]
    }
   ],
   "source": [
    "mod.reLoad()\n",
    "# mod.Vf_4 has a default value of 50\n",
    "mod.Vf_4 = 0.1\n",
    "# calculating new steady state\n",
    "mod.doMca()"
   ]
  },
  {
   "cell_type": "code",
   "execution_count": 16,
   "metadata": {},
   "outputs": [
    {
     "data": {
      "text/latex": [
       "$C^{JR1}_{R4} = (- \\varepsilon^{R1}_{S1} \\varepsilon^{R2}_{S2} \\varepsilon^{R3}_{S3} - \\varepsilon^{R1}_{S3} \\varepsilon^{R2}_{S1} \\varepsilon^{R3}_{S2})/~\\Sigma = 1.000$"
      ],
      "text/plain": [
       "(-ecR1_S1*ecR2_S2*ecR3_S3 - ecR1_S3*ecR2_S1*ecR3_S2)/(-ecR1_S1*ecR2_S2*ecR3_S3 + ecR1_S1*ecR2_S2*ecR4_S3 - ecR1_S1*ecR3_S2*ecR4_S3 - ecR1_S3*ecR2_S1*ecR3_S2 + ecR2_S1*ecR3_S2*ecR4_S3)"
      ]
     },
     "execution_count": 16,
     "metadata": {},
     "output_type": "execute_result"
    }
   ],
   "source": [
    "# now ccJR1_R4 and its two control patterns should have new values\n",
    "sc.cc_results.ccJR1_R4"
   ]
  },
  {
   "cell_type": "code",
   "execution_count": 17,
   "metadata": {},
   "outputs": [
    {
     "data": {
      "text/latex": [
       "$CP001 = - \\varepsilon^{R1}_{S1} \\varepsilon^{R2}_{S2} \\varepsilon^{R3}_{S3}/~\\Sigma = 1.000$"
      ],
      "text/plain": [
       "-ecR1_S1*ecR2_S2*ecR3_S3/(-ecR1_S1*ecR2_S2*ecR3_S3 + ecR1_S1*ecR2_S2*ecR4_S3 - ecR1_S1*ecR3_S2*ecR4_S3 - ecR1_S3*ecR2_S1*ecR3_S2 + ecR2_S1*ecR3_S2*ecR4_S3)"
      ]
     },
     "execution_count": 17,
     "metadata": {},
     "output_type": "execute_result"
    }
   ],
   "source": [
    "# original value was 0.000\n",
    "sc.cc_results.ccJR1_R4.CP001"
   ]
  },
  {
   "cell_type": "code",
   "execution_count": 18,
   "metadata": {},
   "outputs": [
    {
     "data": {
      "text/latex": [
       "$CP002 = - \\varepsilon^{R1}_{S3} \\varepsilon^{R2}_{S1} \\varepsilon^{R3}_{S2}/~\\Sigma = 0.000$"
      ],
      "text/plain": [
       "-ecR1_S3*ecR2_S1*ecR3_S2/(-ecR1_S1*ecR2_S2*ecR3_S3 + ecR1_S1*ecR2_S2*ecR4_S3 - ecR1_S1*ecR3_S2*ecR4_S3 - ecR1_S3*ecR2_S1*ecR3_S2 + ecR2_S1*ecR3_S2*ecR4_S3)"
      ]
     },
     "execution_count": 18,
     "metadata": {},
     "output_type": "execute_result"
    }
   ],
   "source": [
    "# original value was 0.964\n",
    "sc.cc_results.ccJR1_R4.CP002"
   ]
  },
  {
   "cell_type": "code",
   "execution_count": 19,
   "metadata": {},
   "outputs": [
    {
     "name": "stdout",
     "output_type": "stream",
     "text": [
      "\n",
      "Parsing file: /home/jr/Pysces/psc/lin4_fb.psc\n",
      "Info: \"X4\" has been initialised but does not occur in a rate equation\n",
      " \n",
      "Calculating L matrix . . . . . . .  done.\n",
      "Calculating K matrix . . . . . . .  done.\n",
      " \n",
      "(hybrd) The solution converged.\n"
     ]
    }
   ],
   "source": [
    "# resetting to default Vf_4 value and recalculating\n",
    "mod.reLoad()\n",
    "mod.doMca()"
   ]
  },
  {
   "cell_type": "markdown",
   "metadata": {},
   "source": [
    "### Control pattern graphs\n",
    "\n",
    "As described under [Basic Usage](basic_usage.ipynb#graphic-representation-of-metabolic-networks), `Symca` has the functionality to display the chains of local effects represented by control patterns on a scheme of a metabolic model. This functionality can be accessed via the `highlight_patterns` method:"
   ]
  },
  {
   "cell_type": "code",
   "execution_count": 20,
   "metadata": {},
   "outputs": [],
   "source": [
    "# This path leads to the provided layout file \n",
    "path_to_layout = '~/Pysces/psc/lin4_fb.dict'\n",
    "\n",
    "# Correct path depending on platform - necessary for platform independent scripts\n",
    "if platform == 'win32' and pysces.version.current_version_tuple() < (0,9,8):\n",
    "    path_to_layout = psctb.utils.misc.unix_to_windows_path(path_to_layout)\n",
    "else:\n",
    "    path_to_layout = path.expanduser(path_to_layout)"
   ]
  },
  {
   "cell_type": "code",
   "execution_count": 21,
   "metadata": {},
   "outputs": [
    {
     "data": {
      "application/vnd.jupyter.widget-view+json": {
       "model_id": "1db0fed26b2e4de8ba04984e0a5aed99"
      }
     },
     "metadata": {},
     "output_type": "display_data"
    }
   ],
   "source": [
    "sc.cc_results.ccJR1_R4.highlight_patterns(height = 350, pos_dic=path_to_layout)"
   ]
  },
  {
   "cell_type": "markdown",
   "metadata": {},
   "source": [
    "`highlight_patterns` has the following optional arguments:\n",
    "\n",
    "* `width`: Sets the width of the graph (*default*: 900).\n",
    "* `height`:Sets the height of the graph (*default*: 500).\n",
    "* `show_dummy_sinks`: If `True` reactants with the \"dummy\" or \"sink\" will not be displayed (*default*: `False`).\n",
    "* `show_external_modifier_links`: If `True` edges representing the interaction of external effectors with reactions will be shown (*default*: `False`).\n",
    "\n",
    "Clicking either of the two buttons representing the control patterns highlights these patterns according according to their percentage contribution (as discussed [above](Symca.ipynb#control-pattern-percentage-contribution)) towards the total control coefficient."
   ]
  },
  {
   "cell_type": "code",
   "execution_count": 23,
   "metadata": {},
   "outputs": [
    {
     "data": {
      "application/vnd.jupyter.widget-view+json": {
       "model_id": "a30b02a6e8cb44918401f72e8485a431"
      }
     },
     "metadata": {},
     "output_type": "display_data"
    }
   ],
   "source": [
    "# clicking on CP002 shows that this control pattern representing \n",
    "# the chain of effects passing through the feedback loop\n",
    "# is totally responsible for the observed control coefficient value.\n",
    "sc.cc_results.ccJR1_R4.highlight_patterns(height = 350, pos_dic=path_to_layout)"
   ]
  },
  {
   "cell_type": "code",
   "execution_count": 26,
   "metadata": {},
   "outputs": [
    {
     "data": {
      "application/vnd.jupyter.widget-view+json": {
       "model_id": "7f9aa0b7bf0d4043b6f0642d0f886917"
      }
     },
     "metadata": {},
     "output_type": "display_data"
    }
   ],
   "source": [
    "# clicking on CP001 shows that this control pattern representing \n",
    "# the chain of effects of the main pathway does not contribute\n",
    "# at all to the control coefficient value.\n",
    "sc.cc_results.ccJR1_R4.highlight_patterns(height = 350, pos_dic=path_to_layout)"
   ]
  },
  {
   "cell_type": "markdown",
   "metadata": {},
   "source": [
    "### Parameter scans\n",
    "\n",
    "Parameter scans can be performed in order to determine the effect of a parameter change on either the control coefficient and control pattern values or of the effect of a parameter change on the contribution of the control patterns towards the control coefficient (as discussed [above](Symca.ipynb#control-pattern-percentage-contribution)). The procedures for both the \"value\" and \"percentage\" scans are very much the same and rely on the same principles as described in the [Basic Usage](basic_usage.ipynb#plotting-and-displaying-results) and [RateChar](RateChar.ipynb#plotting-results) sections.\n",
    "\n",
    "To perform a parameter scan the `do_par_scan` method is called. This method has the following arguments:\n",
    "\n",
    "* `parameter`: A String representing the parameter which should be varied.\n",
    "* `scan_range`: Any iterable representing the range of values over which to vary the parameter (typically a NumPy `ndarray` generated by `numpy.linspace` or `numpy.logspace`).\n",
    "* `scan_type`: Either `\"percentage\"` or `\"value\"` as described above (*default*: `\"percentage\"`).\n",
    "* `init_return`: If `True` the parameter value will be reset to its initial value after performing the parameter scan (*default*: `True`).\n",
    "* `par_scan`: If `True`, the parameter scan will be performed by multiple parallel processes rather than a single process, thus speeding performance (*default*: `False`).\n",
    "* `par_engine`: Specifies the engine to be used for the parallel scanning processes. Can either be `\"multiproc\"` or `\"ipcluster\"`. A discussion of the differences between these methods are beyond the scope of this document, see [here](http://www.davekuhlman.org/python_multiprocessing_01.html) for a brief overview of Multiprocessing in Python. (*default*: `\"multiproc\"`).\n",
    "* `force_legacy`: If `True` `do_par_scan` will use a older and slower algorithm for performing the parameter scan. This is mostly used for debugging purposes. (*default*: `False`)\n",
    "\n",
    "\n",
    "Below we will perform a percentage scan of $V_{f4}$ for 200 points between 0.01 and 1000 in log space:"
   ]
  },
  {
   "cell_type": "code",
   "execution_count": 28,
   "metadata": {},
   "outputs": [
    {
     "name": "stdout",
     "output_type": "stream",
     "text": [
      "MaxMode 1\n",
      "0 min 0 sec\n",
      "SCANNER: Tsteps 200\n",
      "\n",
      "SCANNER: 200 states analysed\n",
      "\n",
      "(hybrd) The solution converged.\n"
     ]
    }
   ],
   "source": [
    "percentage_scan_data = sc.cc_results.ccJR1_R4.do_par_scan(parameter='Vf_4',\n",
    "                                                          scan_range=numpy.logspace(-1,3,200),\n",
    "                                                          scan_type='percentage')"
   ]
  },
  {
   "cell_type": "markdown",
   "metadata": {},
   "source": [
    "As previously described, these data can be displayed using `ScanFig` by calling the `plot` method of `percentage_scan_data`. Furthermore, lines can be enabled/disabled using the `toggle_category` method of `ScanFig` or by clicking on the appropriate buttons:"
   ]
  },
  {
   "cell_type": "code",
   "execution_count": 29,
   "metadata": {},
   "outputs": [
    {
     "data": {
      "image/png": "[encoded data removed]",
      "text/plain": [
       "<Figure size 720x411.84 with 1 Axes>"
      ]
     },
     "metadata": {},
     "output_type": "display_data"
    },
    {
     "data": {
      "application/vnd.jupyter.widget-view+json": {
       "model_id": "f0fb8c3d84d14df48a3a73c39b15cf89"
      }
     },
     "metadata": {},
     "output_type": "display_data"
    },
    {
     "data": {
      "application/vnd.jupyter.widget-view+json": {
       "model_id": "39cb5f2611fd4a098fb1dc2b6712f5b0"
      }
     },
     "metadata": {},
     "output_type": "display_data"
    },
    {
     "data": {
      "application/vnd.jupyter.widget-view+json": {
       "model_id": "47331a4e9ac5447eb9a8f803617b465b"
      }
     },
     "metadata": {},
     "output_type": "display_data"
    },
    {
     "data": {
      "application/vnd.jupyter.widget-view+json": {
       "model_id": "5dfb5dddcf0e4ac7bca895d43f984d66"
      }
     },
     "metadata": {},
     "output_type": "display_data"
    },
    {
     "data": {
      "application/vnd.jupyter.widget-view+json": {
       "model_id": "ebe74e93555c4c12bb7febb79ef2541b"
      }
     },
     "metadata": {},
     "output_type": "display_data"
    },
    {
     "data": {
      "application/vnd.jupyter.widget-view+json": {
       "model_id": "9d73e1b6752e432c88abf65202ea143b"
      }
     },
     "metadata": {},
     "output_type": "display_data"
    }
   ],
   "source": [
    "percentage_scan_plot = percentage_scan_data.plot()\n",
    "\n",
    "# set the x-axis to a log scale\n",
    "percentage_scan_plot.ax.semilogx()\n",
    "\n",
    "# enable all the lines\n",
    "percentage_scan_plot.toggle_category('Control Patterns', True)\n",
    "percentage_scan_plot.toggle_category('CP001', True)\n",
    "percentage_scan_plot.toggle_category('CP002', True)\n",
    "\n",
    "# display the plot\n",
    "percentage_scan_plot.interact()\n"
   ]
  },
  {
   "cell_type": "markdown",
   "metadata": {},
   "source": [
    "A `value` plot can similarly be generated and displayed. In this case, however, an additional line indicating $C^{J}_{4}$ will also be present:"
   ]
  },
  {
   "cell_type": "code",
   "execution_count": 31,
   "metadata": {},
   "outputs": [
    {
     "data": {
      "image/png": "[encoded data removed]",
      "text/plain": [
       "<Figure size 720x411.84 with 1 Axes>"
      ]
     },
     "metadata": {},
     "output_type": "display_data"
    },
    {
     "data": {
      "application/vnd.jupyter.widget-view+json": {
       "model_id": "aa703418d9bd41d6804f24a75fb981ab"
      }
     },
     "metadata": {},
     "output_type": "display_data"
    },
    {
     "data": {
      "application/vnd.jupyter.widget-view+json": {
       "model_id": "91c85d905dbb4c88ad4af17df8a7d320"
      }
     },
     "metadata": {},
     "output_type": "display_data"
    },
    {
     "data": {
      "application/vnd.jupyter.widget-view+json": {
       "model_id": "5469156387a849329d10dd7b666898d0"
      }
     },
     "metadata": {},
     "output_type": "display_data"
    },
    {
     "data": {
      "application/vnd.jupyter.widget-view+json": {
       "model_id": "4235015d8dd14944b15a03e8b02a183e"
      }
     },
     "metadata": {},
     "output_type": "display_data"
    },
    {
     "data": {
      "application/vnd.jupyter.widget-view+json": {
       "model_id": "6c12c2be2d694660b979287c08c4191c"
      }
     },
     "metadata": {},
     "output_type": "display_data"
    },
    {
     "data": {
      "application/vnd.jupyter.widget-view+json": {
       "model_id": "ce04994b0b6d40adb6e1cf96652d9060"
      }
     },
     "metadata": {},
     "output_type": "display_data"
    },
    {
     "data": {
      "application/vnd.jupyter.widget-view+json": {
       "model_id": "ea8ce665563c4ea7997f6d009591c7aa"
      }
     },
     "metadata": {},
     "output_type": "display_data"
    },
    {
     "data": {
      "application/vnd.jupyter.widget-view+json": {
       "model_id": "f67a3da472004a4b8a7e8f56e0222f94"
      }
     },
     "metadata": {},
     "output_type": "display_data"
    }
   ],
   "source": [
    "value_scan_data = sc.cc_results.ccJR1_R4.do_par_scan(parameter='Vf_4',\n",
    "                                                     scan_range=numpy.logspace(-1,3,200),\n",
    "                                                     scan_type='value')\n",
    "\n",
    "value_scan_plot = value_scan_data.plot()\n",
    "\n",
    "# set the x-axis to a log scale\n",
    "value_scan_plot.ax.semilogx()\n",
    "\n",
    "# enable all the lines\n",
    "value_scan_plot.toggle_category('Control Coefficients', True)\n",
    "value_scan_plot.toggle_category('ccJR1_R4', True)\n",
    "\n",
    "value_scan_plot.toggle_category('Control Patterns', True)\n",
    "value_scan_plot.toggle_category('CP001', True)\n",
    "value_scan_plot.toggle_category('CP002', True)\n",
    "\n",
    "# display the plot\n",
    "value_scan_plot.interact()\n"
   ]
  },
  {
   "cell_type": "markdown",
   "metadata": {},
   "source": [
    "### Fixed internal metabolites\n",
    "\n",
    "In the case where the concentration of an internal intermediate is fixed (such as in the case of a GSDA) the `internal_fixed` argument must be set to `True` in either the `do_symca` method, or when instantiating the `Symca` object. This will typically result in the creation of a `cc_results_N` object for each separate reaction block, where `N` is a number starting at 0. Results can then be accessed via these objects as with normal free internal intermediate models.\n",
    "\n",
    "Thus for a variant of the `lin4_fb` model where the intermediate`S3` is fixed at its steady-state value the procedure is as follows:"
   ]
  },
  {
   "cell_type": "code",
   "execution_count": 33,
   "metadata": {},
   "outputs": [
    {
     "name": "stdout",
     "output_type": "stream",
     "text": [
      "(hybrd) The solution converged.\n",
      "\n",
      "I hope we have a filebuffer\n",
      "Seems like it\n",
      "\n",
      "Reaction stoichiometry and rate equations\n",
      "\n",
      "Species initial values\n",
      "\n",
      "Parameters\n",
      "Assuming extension is .psc\n",
      "Using model directory: /home/jr/Pysces/psc\n",
      "Using file: lin4_fb_S3.psc\n",
      "/home/jr/Pysces/psc/orca/lin4_fb_S3.psc loading ..... \n",
      "Parsing file: /home/jr/Pysces/psc/orca/lin4_fb_S3.psc\n",
      "Info: \"X4\" has been initialised but does not occur in a rate equation\n",
      " \n",
      "Calculating L matrix . . . . . . .  done.\n",
      "Calculating K matrix . . . . . . .  done.\n",
      " \n",
      "(hybrd) The solution converged.\n",
      "Simplifying matrix with 24 elements\n",
      "************************\n"
     ]
    }
   ],
   "source": [
    "# Create a variant of mod with 'C' fixed at its steady-state value\n",
    "mod_fixed_S3 = psctb.modeltools.fix_metabolite_ss(mod, 'S3')\n",
    "\n",
    "# Instantiate Symca object the 'internal_fixed' argument set to 'True'\n",
    "sc_fixed_S3 = psctb.Symca(mod_fixed_S3,internal_fixed=True)\n",
    "\n",
    "# Run the 'do_symca' method (internal_fixed can also be set to 'True' here)\n",
    "sc_fixed_S3.do_symca() "
   ]
  },
  {
   "cell_type": "markdown",
   "metadata": {},
   "source": [
    "The normal `sc_fixed_S3.cc_results` object is still generated, but will be invalid for the fixed model. Each additional `cc_results_N` contains control coefficient expressions that have the same common denominator and corresponds to a specific reaction block. These `cc_results_N` objects are numbered arbitrarily, but consistantly accross different sessions. Each results object accessed and utilised in the same way as the normal `cc_results` object. \n",
    "\n",
    "For the `mod_fixed_c` model two additional results objects (`cc_results_0` and `cc_results_1`) are generated:\n",
    "\n",
    "\n",
    "\n",
    "* `cc_results_1` contains the control coefficients describing the sensitivity of flux and concentrations within the supply block of `S3` towards reactions within the supply block. "
   ]
  },
  {
   "cell_type": "code",
   "execution_count": 34,
   "metadata": {},
   "outputs": [
    {
     "data": {
      "text/html": [
       "<div><table  style=\"display: inline-table\"><tr><td>$C^{JR1}_{R1}$</td><td>1.000</td></tr><tr><td>$C^{JR1}_{R2}$</td><td>8.603e-05</td></tr><tr><td>$C^{JR1}_{R3}$</td><td>4.612e-05</td></tr><tr><td>$C^{JR2}_{R1}$</td><td>1.000</td></tr><tr><td>$C^{JR2}_{R2}$</td><td>8.603e-05</td></tr><tr><td>$C^{JR2}_{R3}$</td><td>4.612e-05</td></tr><tr><td>$C^{JR3}_{R1}$</td><td>1.000</td></tr><tr><td>$C^{JR3}_{R2}$</td><td>8.603e-05</td></tr><tr><td>$C^{JR3}_{R3}$</td><td>4.612e-05</td></tr><tr><td>$C^{S1}_{R1}$</td><td>0.141</td></tr></table>\t\t<table  style=\"display: inline-table\"><tr><td>$C^{S1}_{R2}$</td><td>-0.092</td></tr><tr><td>$C^{S1}_{R3}$</td><td>-0.049</td></tr><tr><td>$C^{S2}_{R1}$</td><td>0.052</td></tr><tr><td>$C^{S2}_{R2}$</td><td>4.446e-06</td></tr><tr><td>$C^{S2}_{R3}$</td><td>-0.052</td></tr><tr><td>$\\Sigma$</td><td>210.616</td></tr></table>\t\t</div>"
      ],
      "text/plain": [
       "{'common_denominator': ecR1_S1*ecR2_S2 - ecR1_S1*ecR3_S2 + ecR2_S1*ecR3_S2,\n",
       " 'ccJR1_R1': ecR2_S1*ecR3_S2/(ecR1_S1*ecR2_S2 - ecR1_S1*ecR3_S2 + ecR2_S1*ecR3_S2),\n",
       " 'ccJR1_R2': -ecR1_S1*ecR3_S2/(ecR1_S1*ecR2_S2 - ecR1_S1*ecR3_S2 + ecR2_S1*ecR3_S2),\n",
       " 'ccJR1_R3': ecR1_S1*ecR2_S2/(ecR1_S1*ecR2_S2 - ecR1_S1*ecR3_S2 + ecR2_S1*ecR3_S2),\n",
       " 'ccJR2_R1': ecR2_S1*ecR3_S2/(ecR1_S1*ecR2_S2 - ecR1_S1*ecR3_S2 + ecR2_S1*ecR3_S2),\n",
       " 'ccJR2_R2': -ecR1_S1*ecR3_S2/(ecR1_S1*ecR2_S2 - ecR1_S1*ecR3_S2 + ecR2_S1*ecR3_S2),\n",
       " 'ccJR2_R3': ecR1_S1*ecR2_S2/(ecR1_S1*ecR2_S2 - ecR1_S1*ecR3_S2 + ecR2_S1*ecR3_S2),\n",
       " 'ccJR3_R1': ecR2_S1*ecR3_S2/(ecR1_S1*ecR2_S2 - ecR1_S1*ecR3_S2 + ecR2_S1*ecR3_S2),\n",
       " 'ccJR3_R2': -ecR1_S1*ecR3_S2/(ecR1_S1*ecR2_S2 - ecR1_S1*ecR3_S2 + ecR2_S1*ecR3_S2),\n",
       " 'ccJR3_R3': ecR1_S1*ecR2_S2/(ecR1_S1*ecR2_S2 - ecR1_S1*ecR3_S2 + ecR2_S1*ecR3_S2),\n",
       " 'ccS2_R1': ecR2_S1/(ecR1_S1*ecR2_S2 - ecR1_S1*ecR3_S2 + ecR2_S1*ecR3_S2),\n",
       " 'ccS2_R2': -ecR1_S1/(ecR1_S1*ecR2_S2 - ecR1_S1*ecR3_S2 + ecR2_S1*ecR3_S2),\n",
       " 'ccS2_R3': (ecR1_S1 - ecR2_S1)/(ecR1_S1*ecR2_S2 - ecR1_S1*ecR3_S2 + ecR2_S1*ecR3_S2),\n",
       " 'ccS1_R1': (-ecR2_S2 + ecR3_S2)/(ecR1_S1*ecR2_S2 - ecR1_S1*ecR3_S2 + ecR2_S1*ecR3_S2),\n",
       " 'ccS1_R2': -ecR3_S2/(ecR1_S1*ecR2_S2 - ecR1_S1*ecR3_S2 + ecR2_S1*ecR3_S2),\n",
       " 'ccS1_R3': ecR2_S2/(ecR1_S1*ecR2_S2 - ecR1_S1*ecR3_S2 + ecR2_S1*ecR3_S2)}"
      ]
     },
     "execution_count": 34,
     "metadata": {},
     "output_type": "execute_result"
    }
   ],
   "source": [
    "sc_fixed_S3.cc_results_1"
   ]
  },
  {
   "cell_type": "markdown",
   "metadata": {},
   "source": [
    "* `cc_results_0` contains the control coefficients describing the sensitivity of flux and concentrations of either reaction block towards reactions in the other reaction block (i.e., all control coefficients here should be zero). Due to the fact that the `S3` demand block consists of a single reaction, this object also contains the control coefficient of `R4` on `J_R4`, which is equal to one. This results object is useful confirming that the results were generated as expected. "
   ]
  },
  {
   "cell_type": "code",
   "execution_count": 35,
   "metadata": {},
   "outputs": [
    {
     "data": {
      "text/html": [
       "<div><table  style=\"display: inline-table\"><tr><td>$C^{JR1}_{R4}$</td><td>0.000</td></tr><tr><td>$C^{JR2}_{R4}$</td><td>0.000</td></tr><tr><td>$C^{JR3}_{R4}$</td><td>0.000</td></tr><tr><td>$C^{JR4}_{R1}$</td><td>0.000</td></tr><tr><td>$C^{JR4}_{R2}$</td><td>0.000</td></tr><tr><td>$C^{JR4}_{R3}$</td><td>0.000</td></tr><tr><td>$C^{JR4}_{R4}$</td><td>1.000</td></tr><tr><td>$C^{S1}_{R4}$</td><td>0.000</td></tr><tr><td>$C^{S2}_{R4}$</td><td>0.000</td></tr><tr><td>$\\Sigma$</td><td>1.000</td></tr></table>\t\t</div>"
      ],
      "text/plain": [
       "{'common_denominator': 1,\n",
       " 'ccJR4_R4': 1,\n",
       " 'ccJR4_R1': 0,\n",
       " 'ccJR4_R2': 0,\n",
       " 'ccJR4_R3': 0,\n",
       " 'ccJR1_R4': 0,\n",
       " 'ccJR2_R4': 0,\n",
       " 'ccJR3_R4': 0,\n",
       " 'ccS2_R4': 0,\n",
       " 'ccS1_R4': 0}"
      ]
     },
     "execution_count": 35,
     "metadata": {},
     "output_type": "execute_result"
    }
   ],
   "source": [
    "sc_fixed_S3.cc_results_0"
   ]
  },
  {
   "cell_type": "markdown",
   "metadata": {},
   "source": [
    "If the demand block of `S3` in this pathway consisted of multiple reactions, rather than a single reaction, there would have been an additional `cc_results_N` object containing the control coefficients of that reaction block.  "
   ]
  },
  {
   "cell_type": "markdown",
   "metadata": {},
   "source": [
    "### Saving results\n",
    "\n",
    "In addition to being able to save parameter scan results (as previously described), a summary of the control coefficient and control pattern results can be saved using the `save_results` method. This saves a `csv` file (by default) to disk to any specified location. If no location is specified, a file named `cc_summary_N` is saved to the `~/Pysces/$modelname/symca/` directory, where `N` is a number starting at 0:\n"
   ]
  },
  {
   "cell_type": "code",
   "execution_count": 36,
   "metadata": {},
   "outputs": [],
   "source": [
    "sc.save_results()"
   ]
  },
  {
   "cell_type": "markdown",
   "metadata": {},
   "source": [
    "`save_results` has the following optional arguments:\n",
    "\n",
    "* `file_name`: Specifies a path to save the results to. If `None`, the path defaults as described above.\n",
    "* `separator`: The separator between fields (*default*: `\",\"`)"
   ]
  },
  {
   "cell_type": "markdown",
   "metadata": {},
   "source": [
    "The contents of the saved data file is as follows:"
   ]
  },
  {
   "cell_type": "code",
   "execution_count": 37,
   "metadata": {},
   "outputs": [
    {
     "data": {
      "text/html": [
       "<div>\n",
       "<style scoped>\n",
       "    .dataframe tbody tr th:only-of-type {\n",
       "        vertical-align: middle;\n",
       "    }\n",
       "\n",
       "    .dataframe tbody tr th {\n",
       "        vertical-align: top;\n",
       "    }\n",
       "\n",
       "    .dataframe thead th {\n",
       "        text-align: right;\n",
       "    }\n",
       "</style>\n",
       "<table border=\"1\" class=\"dataframe\">\n",
       "  <thead>\n",
       "    <tr style=\"text-align: right;\">\n",
       "      <th></th>\n",
       "      <th># name</th>\n",
       "      <th>value</th>\n",
       "      <th>latex_name</th>\n",
       "      <th>latex_expression</th>\n",
       "    </tr>\n",
       "  </thead>\n",
       "  <tbody>\n",
       "    <tr>\n",
       "      <th>0</th>\n",
       "      <td># results from cc_results</td>\n",
       "      <td>0.000000</td>\n",
       "      <td>NaN</td>\n",
       "      <td>NaN</td>\n",
       "    </tr>\n",
       "    <tr>\n",
       "      <th>1</th>\n",
       "      <td>ccJR1_R1</td>\n",
       "      <td>0.035915</td>\n",
       "      <td>C^{JR1}_{R1}</td>\n",
       "      <td>(\\varepsilon^{R2}_{S1} \\varepsilon^{R3}_{S2} \\...</td>\n",
       "    </tr>\n",
       "    <tr>\n",
       "      <th>2</th>\n",
       "      <td>CP001</td>\n",
       "      <td>0.035915</td>\n",
       "      <td>CP001</td>\n",
       "      <td>\\varepsilon^{R2}_{S1} \\varepsilon^{R3}_{S2} \\v...</td>\n",
       "    </tr>\n",
       "    <tr>\n",
       "      <th>3</th>\n",
       "      <td>ccJR1_R2</td>\n",
       "      <td>0.000003</td>\n",
       "      <td>C^{JR1}_{R2}</td>\n",
       "      <td>(- \\varepsilon^{R1}_{S1} \\varepsilon^{R3}_{S2}...</td>\n",
       "    </tr>\n",
       "    <tr>\n",
       "      <th>4</th>\n",
       "      <td>CP001</td>\n",
       "      <td>0.000003</td>\n",
       "      <td>CP001</td>\n",
       "      <td>- \\varepsilon^{R1}_{S1} \\varepsilon^{R3}_{S2} ...</td>\n",
       "    </tr>\n",
       "    <tr>\n",
       "      <th>5</th>\n",
       "      <td>ccJR1_R3</td>\n",
       "      <td>0.000002</td>\n",
       "      <td>C^{JR1}_{R3}</td>\n",
       "      <td>(\\varepsilon^{R1}_{S1} \\varepsilon^{R2}_{S2} \\...</td>\n",
       "    </tr>\n",
       "    <tr>\n",
       "      <th>6</th>\n",
       "      <td>CP001</td>\n",
       "      <td>0.000002</td>\n",
       "      <td>CP001</td>\n",
       "      <td>\\varepsilon^{R1}_{S1} \\varepsilon^{R2}_{S2} \\v...</td>\n",
       "    </tr>\n",
       "    <tr>\n",
       "      <th>7</th>\n",
       "      <td>ccJR1_R4</td>\n",
       "      <td>0.964080</td>\n",
       "      <td>C^{JR1}_{R4}</td>\n",
       "      <td>(- \\varepsilon^{R1}_{S1} \\varepsilon^{R2}_{S2}...</td>\n",
       "    </tr>\n",
       "    <tr>\n",
       "      <th>8</th>\n",
       "      <td>CP001</td>\n",
       "      <td>0.000298</td>\n",
       "      <td>CP001</td>\n",
       "      <td>- \\varepsilon^{R1}_{S1} \\varepsilon^{R2}_{S2} ...</td>\n",
       "    </tr>\n",
       "    <tr>\n",
       "      <th>9</th>\n",
       "      <td>CP002</td>\n",
       "      <td>0.963782</td>\n",
       "      <td>CP002</td>\n",
       "      <td>- \\varepsilon^{R1}_{S3} \\varepsilon^{R2}_{S1} ...</td>\n",
       "    </tr>\n",
       "    <tr>\n",
       "      <th>10</th>\n",
       "      <td>ccJR2_R1</td>\n",
       "      <td>0.035915</td>\n",
       "      <td>C^{JR2}_{R1}</td>\n",
       "      <td>(\\varepsilon^{R2}_{S1} \\varepsilon^{R3}_{S2} \\...</td>\n",
       "    </tr>\n",
       "    <tr>\n",
       "      <th>11</th>\n",
       "      <td>CP001</td>\n",
       "      <td>0.035915</td>\n",
       "      <td>CP001</td>\n",
       "      <td>\\varepsilon^{R2}_{S1} \\varepsilon^{R3}_{S2} \\v...</td>\n",
       "    </tr>\n",
       "    <tr>\n",
       "      <th>12</th>\n",
       "      <td>ccJR2_R2</td>\n",
       "      <td>0.000003</td>\n",
       "      <td>C^{JR2}_{R2}</td>\n",
       "      <td>(- \\varepsilon^{R1}_{S1} \\varepsilon^{R3}_{S2}...</td>\n",
       "    </tr>\n",
       "    <tr>\n",
       "      <th>13</th>\n",
       "      <td>CP001</td>\n",
       "      <td>0.000003</td>\n",
       "      <td>CP001</td>\n",
       "      <td>- \\varepsilon^{R1}_{S1} \\varepsilon^{R3}_{S2} ...</td>\n",
       "    </tr>\n",
       "    <tr>\n",
       "      <th>14</th>\n",
       "      <td>ccJR2_R3</td>\n",
       "      <td>0.000002</td>\n",
       "      <td>C^{JR2}_{R3}</td>\n",
       "      <td>(\\varepsilon^{R1}_{S1} \\varepsilon^{R2}_{S2} \\...</td>\n",
       "    </tr>\n",
       "    <tr>\n",
       "      <th>15</th>\n",
       "      <td>CP001</td>\n",
       "      <td>0.000002</td>\n",
       "      <td>CP001</td>\n",
       "      <td>\\varepsilon^{R1}_{S1} \\varepsilon^{R2}_{S2} \\v...</td>\n",
       "    </tr>\n",
       "    <tr>\n",
       "      <th>16</th>\n",
       "      <td>ccJR2_R4</td>\n",
       "      <td>0.964080</td>\n",
       "      <td>C^{JR2}_{R4}</td>\n",
       "      <td>(- \\varepsilon^{R1}_{S1} \\varepsilon^{R2}_{S2}...</td>\n",
       "    </tr>\n",
       "    <tr>\n",
       "      <th>17</th>\n",
       "      <td>CP001</td>\n",
       "      <td>0.000298</td>\n",
       "      <td>CP001</td>\n",
       "      <td>- \\varepsilon^{R1}_{S1} \\varepsilon^{R2}_{S2} ...</td>\n",
       "    </tr>\n",
       "    <tr>\n",
       "      <th>18</th>\n",
       "      <td>CP002</td>\n",
       "      <td>0.963782</td>\n",
       "      <td>CP002</td>\n",
       "      <td>- \\varepsilon^{R1}_{S3} \\varepsilon^{R2}_{S1} ...</td>\n",
       "    </tr>\n",
       "    <tr>\n",
       "      <th>19</th>\n",
       "      <td>ccJR3_R1</td>\n",
       "      <td>0.035915</td>\n",
       "      <td>C^{JR3}_{R1}</td>\n",
       "      <td>(\\varepsilon^{R2}_{S1} \\varepsilon^{R3}_{S2} \\...</td>\n",
       "    </tr>\n",
       "  </tbody>\n",
       "</table>\n",
       "</div>"
      ],
      "text/plain": [
       "                       # name     value    latex_name  \\\n",
       "0   # results from cc_results  0.000000           NaN   \n",
       "1                    ccJR1_R1  0.035915  C^{JR1}_{R1}   \n",
       "2                       CP001  0.035915         CP001   \n",
       "3                    ccJR1_R2  0.000003  C^{JR1}_{R2}   \n",
       "4                       CP001  0.000003         CP001   \n",
       "5                    ccJR1_R3  0.000002  C^{JR1}_{R3}   \n",
       "6                       CP001  0.000002         CP001   \n",
       "7                    ccJR1_R4  0.964080  C^{JR1}_{R4}   \n",
       "8                       CP001  0.000298         CP001   \n",
       "9                       CP002  0.963782         CP002   \n",
       "10                   ccJR2_R1  0.035915  C^{JR2}_{R1}   \n",
       "11                      CP001  0.035915         CP001   \n",
       "12                   ccJR2_R2  0.000003  C^{JR2}_{R2}   \n",
       "13                      CP001  0.000003         CP001   \n",
       "14                   ccJR2_R3  0.000002  C^{JR2}_{R3}   \n",
       "15                      CP001  0.000002         CP001   \n",
       "16                   ccJR2_R4  0.964080  C^{JR2}_{R4}   \n",
       "17                      CP001  0.000298         CP001   \n",
       "18                      CP002  0.963782         CP002   \n",
       "19                   ccJR3_R1  0.035915  C^{JR3}_{R1}   \n",
       "\n",
       "                                     latex_expression  \n",
       "0                                                 NaN  \n",
       "1   (\\varepsilon^{R2}_{S1} \\varepsilon^{R3}_{S2} \\...  \n",
       "2   \\varepsilon^{R2}_{S1} \\varepsilon^{R3}_{S2} \\v...  \n",
       "3   (- \\varepsilon^{R1}_{S1} \\varepsilon^{R3}_{S2}...  \n",
       "4   - \\varepsilon^{R1}_{S1} \\varepsilon^{R3}_{S2} ...  \n",
       "5   (\\varepsilon^{R1}_{S1} \\varepsilon^{R2}_{S2} \\...  \n",
       "6   \\varepsilon^{R1}_{S1} \\varepsilon^{R2}_{S2} \\v...  \n",
       "7   (- \\varepsilon^{R1}_{S1} \\varepsilon^{R2}_{S2}...  \n",
       "8   - \\varepsilon^{R1}_{S1} \\varepsilon^{R2}_{S2} ...  \n",
       "9   - \\varepsilon^{R1}_{S3} \\varepsilon^{R2}_{S1} ...  \n",
       "10  (\\varepsilon^{R2}_{S1} \\varepsilon^{R3}_{S2} \\...  \n",
       "11  \\varepsilon^{R2}_{S1} \\varepsilon^{R3}_{S2} \\v...  \n",
       "12  (- \\varepsilon^{R1}_{S1} \\varepsilon^{R3}_{S2}...  \n",
       "13  - \\varepsilon^{R1}_{S1} \\varepsilon^{R3}_{S2} ...  \n",
       "14  (\\varepsilon^{R1}_{S1} \\varepsilon^{R2}_{S2} \\...  \n",
       "15  \\varepsilon^{R1}_{S1} \\varepsilon^{R2}_{S2} \\v...  \n",
       "16  (- \\varepsilon^{R1}_{S1} \\varepsilon^{R2}_{S2}...  \n",
       "17  - \\varepsilon^{R1}_{S1} \\varepsilon^{R2}_{S2} ...  \n",
       "18  - \\varepsilon^{R1}_{S3} \\varepsilon^{R2}_{S1} ...  \n",
       "19  (\\varepsilon^{R2}_{S1} \\varepsilon^{R3}_{S2} \\...  "
      ]
     },
     "execution_count": 37,
     "metadata": {},
     "output_type": "execute_result"
    }
   ],
   "source": [
    "# the following code requires `pandas` to run\n",
    "import pandas as pd\n",
    "# load csv file at default path\n",
    "results_path = '~/Pysces/lin4_fb/symca/cc_summary_0.csv'\n",
    "\n",
    "# Correct path depending on platform - necessary for platform independent scripts\n",
    "if platform == 'win32' and pysces.version.current_version_tuple() < (0,9,8):\n",
    "    results_path = psctb.utils.misc.unix_to_windows_path(results_path)\n",
    "else:\n",
    "    results_path = path.expanduser(results_path)\n",
    "\n",
    "saved_results = pd.read_csv(results_path)\n",
    "# show first 20 lines\n",
    "saved_results.head(n=20) "
   ]
  },
  {
   "cell_type": "markdown",
   "metadata": {},
   "source": [
    "### Saving/loading sessions\n",
    "\n",
    "Saving and loading `Symca` sessions is very simple and works similar to `RateChar`. Saving a session takes place with the `save_session` method, whereas the `load_session` method loads the saved expressions. As with the `save_results` method and most other saving and loading functionality, if no `file_name` argument is provided, files will be saved to the default directory (see also [Basic Usage](basic_usage.ipynb#saving-and-default-directories)). As previously described, expressions can also automatically be loaded/saved by `do_symca` by using the `auto_save_load` argument which saves and loads using the default path. Models with internal fixed metabolites are handled automatically."
   ]
  },
  {
   "cell_type": "code",
   "execution_count": 38,
   "metadata": {},
   "outputs": [
    {
     "name": "stdout",
     "output_type": "stream",
     "text": [
      "(hybrd) The solution converged.\n"
     ]
    },
    {
     "data": {
      "text/html": [
       "<div><table  style=\"display: inline-table\"><tr><td>$C^{JR1}_{R1}$</td><td>0.036</td></tr><tr><td>$C^{JR1}_{R2}$</td><td>3.090e-06</td></tr><tr><td>$C^{JR1}_{R3}$</td><td>1.657e-06</td></tr><tr><td>$C^{JR1}_{R4}$</td><td>0.964</td></tr><tr><td>$C^{JR2}_{R1}$</td><td>0.036</td></tr><tr><td>$C^{JR2}_{R2}$</td><td>3.090e-06</td></tr><tr><td>$C^{JR2}_{R3}$</td><td>1.657e-06</td></tr><tr><td>$C^{JR2}_{R4}$</td><td>0.964</td></tr><tr><td>$C^{JR3}_{R1}$</td><td>0.036</td></tr><tr><td>$C^{JR3}_{R2}$</td><td>3.090e-06</td></tr></table>\t\t<table  style=\"display: inline-table\"><tr><td>$C^{JR3}_{R3}$</td><td>1.657e-06</td></tr><tr><td>$C^{JR3}_{R4}$</td><td>0.964</td></tr><tr><td>$C^{JR4}_{R1}$</td><td>0.036</td></tr><tr><td>$C^{JR4}_{R2}$</td><td>3.090e-06</td></tr><tr><td>$C^{JR4}_{R3}$</td><td>1.657e-06</td></tr><tr><td>$C^{JR4}_{R4}$</td><td>0.964</td></tr><tr><td>$C^{S1}_{R1}$</td><td>0.323</td></tr><tr><td>$C^{S1}_{R2}$</td><td>-0.092</td></tr><tr><td>$C^{S1}_{R3}$</td><td>-0.049</td></tr><tr><td>$C^{S1}_{R4}$</td><td>-0.182</td></tr></table>\t\t<table  style=\"display: inline-table\"><tr><td>$C^{S2}_{R1}$</td><td>0.335</td></tr><tr><td>$C^{S2}_{R2}$</td><td>2.885e-05</td></tr><tr><td>$C^{S2}_{R3}$</td><td>-0.052</td></tr><tr><td>$C^{S2}_{R4}$</td><td>-0.284</td></tr><tr><td>$C^{S3}_{R1}$</td><td>0.334</td></tr><tr><td>$C^{S3}_{R2}$</td><td>2.871e-05</td></tr><tr><td>$C^{S3}_{R3}$</td><td>1.539e-05</td></tr><tr><td>$C^{S3}_{R4}$</td><td>-0.334</td></tr><tr><td>$\\Sigma$</td><td>631.138</td></tr></table>\t\t</div>"
      ],
      "text/plain": [
       "{'common_denominator': -ecR1_S1*ecR2_S2*ecR3_S3 + ecR1_S1*ecR2_S2*ecR4_S3 - ecR1_S1*ecR3_S2*ecR4_S3 - ecR1_S3*ecR2_S1*ecR3_S2 + ecR2_S1*ecR3_S2*ecR4_S3,\n",
       " 'ccJR4_R4': (-ecR1_S1*ecR2_S2*ecR3_S3 - ecR1_S3*ecR2_S1*ecR3_S2)/(-ecR1_S1*ecR2_S2*ecR3_S3 + ecR1_S1*ecR2_S2*ecR4_S3 - ecR1_S1*ecR3_S2*ecR4_S3 - ecR1_S3*ecR2_S1*ecR3_S2 + ecR2_S1*ecR3_S2*ecR4_S3),\n",
       " 'ccJR4_R3': ecR1_S1*ecR2_S2*ecR4_S3/(-ecR1_S1*ecR2_S2*ecR3_S3 + ecR1_S1*ecR2_S2*ecR4_S3 - ecR1_S1*ecR3_S2*ecR4_S3 - ecR1_S3*ecR2_S1*ecR3_S2 + ecR2_S1*ecR3_S2*ecR4_S3),\n",
       " 'ccJR4_R2': -ecR1_S1*ecR3_S2*ecR4_S3/(-ecR1_S1*ecR2_S2*ecR3_S3 + ecR1_S1*ecR2_S2*ecR4_S3 - ecR1_S1*ecR3_S2*ecR4_S3 - ecR1_S3*ecR2_S1*ecR3_S2 + ecR2_S1*ecR3_S2*ecR4_S3),\n",
       " 'ccJR4_R1': ecR2_S1*ecR3_S2*ecR4_S3/(-ecR1_S1*ecR2_S2*ecR3_S3 + ecR1_S1*ecR2_S2*ecR4_S3 - ecR1_S1*ecR3_S2*ecR4_S3 - ecR1_S3*ecR2_S1*ecR3_S2 + ecR2_S1*ecR3_S2*ecR4_S3),\n",
       " 'ccJR3_R4': (-ecR1_S1*ecR2_S2*ecR3_S3 - ecR1_S3*ecR2_S1*ecR3_S2)/(-ecR1_S1*ecR2_S2*ecR3_S3 + ecR1_S1*ecR2_S2*ecR4_S3 - ecR1_S1*ecR3_S2*ecR4_S3 - ecR1_S3*ecR2_S1*ecR3_S2 + ecR2_S1*ecR3_S2*ecR4_S3),\n",
       " 'ccJR3_R3': ecR1_S1*ecR2_S2*ecR4_S3/(-ecR1_S1*ecR2_S2*ecR3_S3 + ecR1_S1*ecR2_S2*ecR4_S3 - ecR1_S1*ecR3_S2*ecR4_S3 - ecR1_S3*ecR2_S1*ecR3_S2 + ecR2_S1*ecR3_S2*ecR4_S3),\n",
       " 'ccJR3_R2': -ecR1_S1*ecR3_S2*ecR4_S3/(-ecR1_S1*ecR2_S2*ecR3_S3 + ecR1_S1*ecR2_S2*ecR4_S3 - ecR1_S1*ecR3_S2*ecR4_S3 - ecR1_S3*ecR2_S1*ecR3_S2 + ecR2_S1*ecR3_S2*ecR4_S3),\n",
       " 'ccJR3_R1': ecR2_S1*ecR3_S2*ecR4_S3/(-ecR1_S1*ecR2_S2*ecR3_S3 + ecR1_S1*ecR2_S2*ecR4_S3 - ecR1_S1*ecR3_S2*ecR4_S3 - ecR1_S3*ecR2_S1*ecR3_S2 + ecR2_S1*ecR3_S2*ecR4_S3),\n",
       " 'ccJR2_R4': (-ecR1_S1*ecR2_S2*ecR3_S3 - ecR1_S3*ecR2_S1*ecR3_S2)/(-ecR1_S1*ecR2_S2*ecR3_S3 + ecR1_S1*ecR2_S2*ecR4_S3 - ecR1_S1*ecR3_S2*ecR4_S3 - ecR1_S3*ecR2_S1*ecR3_S2 + ecR2_S1*ecR3_S2*ecR4_S3),\n",
       " 'ccJR2_R3': ecR1_S1*ecR2_S2*ecR4_S3/(-ecR1_S1*ecR2_S2*ecR3_S3 + ecR1_S1*ecR2_S2*ecR4_S3 - ecR1_S1*ecR3_S2*ecR4_S3 - ecR1_S3*ecR2_S1*ecR3_S2 + ecR2_S1*ecR3_S2*ecR4_S3),\n",
       " 'ccJR2_R2': -ecR1_S1*ecR3_S2*ecR4_S3/(-ecR1_S1*ecR2_S2*ecR3_S3 + ecR1_S1*ecR2_S2*ecR4_S3 - ecR1_S1*ecR3_S2*ecR4_S3 - ecR1_S3*ecR2_S1*ecR3_S2 + ecR2_S1*ecR3_S2*ecR4_S3),\n",
       " 'ccJR2_R1': ecR2_S1*ecR3_S2*ecR4_S3/(-ecR1_S1*ecR2_S2*ecR3_S3 + ecR1_S1*ecR2_S2*ecR4_S3 - ecR1_S1*ecR3_S2*ecR4_S3 - ecR1_S3*ecR2_S1*ecR3_S2 + ecR2_S1*ecR3_S2*ecR4_S3),\n",
       " 'ccJR1_R4': (-ecR1_S1*ecR2_S2*ecR3_S3 - ecR1_S3*ecR2_S1*ecR3_S2)/(-ecR1_S1*ecR2_S2*ecR3_S3 + ecR1_S1*ecR2_S2*ecR4_S3 - ecR1_S1*ecR3_S2*ecR4_S3 - ecR1_S3*ecR2_S1*ecR3_S2 + ecR2_S1*ecR3_S2*ecR4_S3),\n",
       " 'ccJR1_R3': ecR1_S1*ecR2_S2*ecR4_S3/(-ecR1_S1*ecR2_S2*ecR3_S3 + ecR1_S1*ecR2_S2*ecR4_S3 - ecR1_S1*ecR3_S2*ecR4_S3 - ecR1_S3*ecR2_S1*ecR3_S2 + ecR2_S1*ecR3_S2*ecR4_S3),\n",
       " 'ccJR1_R2': -ecR1_S1*ecR3_S2*ecR4_S3/(-ecR1_S1*ecR2_S2*ecR3_S3 + ecR1_S1*ecR2_S2*ecR4_S3 - ecR1_S1*ecR3_S2*ecR4_S3 - ecR1_S3*ecR2_S1*ecR3_S2 + ecR2_S1*ecR3_S2*ecR4_S3),\n",
       " 'ccJR1_R1': ecR2_S1*ecR3_S2*ecR4_S3/(-ecR1_S1*ecR2_S2*ecR3_S3 + ecR1_S1*ecR2_S2*ecR4_S3 - ecR1_S1*ecR3_S2*ecR4_S3 - ecR1_S3*ecR2_S1*ecR3_S2 + ecR2_S1*ecR3_S2*ecR4_S3),\n",
       " 'ccS2_R4': (-ecR1_S1*ecR3_S3 - ecR1_S3*ecR2_S1 + ecR2_S1*ecR3_S3)/(-ecR1_S1*ecR2_S2*ecR3_S3 + ecR1_S1*ecR2_S2*ecR4_S3 - ecR1_S1*ecR3_S2*ecR4_S3 - ecR1_S3*ecR2_S1*ecR3_S2 + ecR2_S1*ecR3_S2*ecR4_S3),\n",
       " 'ccS2_R3': (ecR1_S1*ecR4_S3 + ecR1_S3*ecR2_S1 - ecR2_S1*ecR4_S3)/(-ecR1_S1*ecR2_S2*ecR3_S3 + ecR1_S1*ecR2_S2*ecR4_S3 - ecR1_S1*ecR3_S2*ecR4_S3 - ecR1_S3*ecR2_S1*ecR3_S2 + ecR2_S1*ecR3_S2*ecR4_S3),\n",
       " 'ccS2_R2': (ecR1_S1*ecR3_S3 - ecR1_S1*ecR4_S3)/(-ecR1_S1*ecR2_S2*ecR3_S3 + ecR1_S1*ecR2_S2*ecR4_S3 - ecR1_S1*ecR3_S2*ecR4_S3 - ecR1_S3*ecR2_S1*ecR3_S2 + ecR2_S1*ecR3_S2*ecR4_S3),\n",
       " 'ccS2_R1': (-ecR2_S1*ecR3_S3 + ecR2_S1*ecR4_S3)/(-ecR1_S1*ecR2_S2*ecR3_S3 + ecR1_S1*ecR2_S2*ecR4_S3 - ecR1_S1*ecR3_S2*ecR4_S3 - ecR1_S3*ecR2_S1*ecR3_S2 + ecR2_S1*ecR3_S2*ecR4_S3),\n",
       " 'ccS1_R4': (ecR1_S3*ecR2_S2 - ecR1_S3*ecR3_S2 - ecR2_S2*ecR3_S3)/(-ecR1_S1*ecR2_S2*ecR3_S3 + ecR1_S1*ecR2_S2*ecR4_S3 - ecR1_S1*ecR3_S2*ecR4_S3 - ecR1_S3*ecR2_S1*ecR3_S2 + ecR2_S1*ecR3_S2*ecR4_S3),\n",
       " 'ccS1_R3': (-ecR1_S3*ecR2_S2 + ecR2_S2*ecR4_S3)/(-ecR1_S1*ecR2_S2*ecR3_S3 + ecR1_S1*ecR2_S2*ecR4_S3 - ecR1_S1*ecR3_S2*ecR4_S3 - ecR1_S3*ecR2_S1*ecR3_S2 + ecR2_S1*ecR3_S2*ecR4_S3),\n",
       " 'ccS1_R2': (ecR1_S3*ecR3_S2 - ecR3_S2*ecR4_S3)/(-ecR1_S1*ecR2_S2*ecR3_S3 + ecR1_S1*ecR2_S2*ecR4_S3 - ecR1_S1*ecR3_S2*ecR4_S3 - ecR1_S3*ecR2_S1*ecR3_S2 + ecR2_S1*ecR3_S2*ecR4_S3),\n",
       " 'ccS1_R1': (ecR2_S2*ecR3_S3 - ecR2_S2*ecR4_S3 + ecR3_S2*ecR4_S3)/(-ecR1_S1*ecR2_S2*ecR3_S3 + ecR1_S1*ecR2_S2*ecR4_S3 - ecR1_S1*ecR3_S2*ecR4_S3 - ecR1_S3*ecR2_S1*ecR3_S2 + ecR2_S1*ecR3_S2*ecR4_S3),\n",
       " 'ccS3_R4': (-ecR1_S1*ecR2_S2 + ecR1_S1*ecR3_S2 - ecR2_S1*ecR3_S2)/(-ecR1_S1*ecR2_S2*ecR3_S3 + ecR1_S1*ecR2_S2*ecR4_S3 - ecR1_S1*ecR3_S2*ecR4_S3 - ecR1_S3*ecR2_S1*ecR3_S2 + ecR2_S1*ecR3_S2*ecR4_S3),\n",
       " 'ccS3_R3': ecR1_S1*ecR2_S2/(-ecR1_S1*ecR2_S2*ecR3_S3 + ecR1_S1*ecR2_S2*ecR4_S3 - ecR1_S1*ecR3_S2*ecR4_S3 - ecR1_S3*ecR2_S1*ecR3_S2 + ecR2_S1*ecR3_S2*ecR4_S3),\n",
       " 'ccS3_R2': -ecR1_S1*ecR3_S2/(-ecR1_S1*ecR2_S2*ecR3_S3 + ecR1_S1*ecR2_S2*ecR4_S3 - ecR1_S1*ecR3_S2*ecR4_S3 - ecR1_S3*ecR2_S1*ecR3_S2 + ecR2_S1*ecR3_S2*ecR4_S3),\n",
       " 'ccS3_R1': ecR2_S1*ecR3_S2/(-ecR1_S1*ecR2_S2*ecR3_S3 + ecR1_S1*ecR2_S2*ecR4_S3 - ecR1_S1*ecR3_S2*ecR4_S3 - ecR1_S3*ecR2_S1*ecR3_S2 + ecR2_S1*ecR3_S2*ecR4_S3)}"
      ]
     },
     "execution_count": 38,
     "metadata": {},
     "output_type": "execute_result"
    }
   ],
   "source": [
    "# saving session\n",
    "sc.save_session()\n",
    "\n",
    "# create new Symca object and load saved results\n",
    "new_sc = psctb.Symca(mod)\n",
    "new_sc.load_session()\n",
    "\n",
    "# display saved results\n",
    "new_sc.cc_results"
   ]
  }
 ],
 "metadata": {
  "kernelspec": {
   "display_name": "Python 3",
   "language": "python",
   "name": "python3"
  },
  "language_info": {
   "codemirror_mode": {
    "name": "ipython",
    "version": 3
   },
   "file_extension": ".py",
   "mimetype": "text/x-python",
   "name": "python",
   "nbconvert_exporter": "python",
   "pygments_lexer": "ipython3",
   "version": "3.6.9"
  },
  "toc": {
   "nav_menu": {},
   "number_sections": true,
   "sideBar": true,
   "skip_h1_title": false,
   "toc_cell": false,
   "toc_position": {},
   "toc_section_display": "block",
   "toc_window_display": false
  },
  "varInspector": {
   "cols": {
    "lenName": 16,
    "lenType": 16,
    "lenVar": 40
   },
   "kernels_config": {
    "python": {
     "delete_cmd_postfix": "",
     "delete_cmd_prefix": "del ",
     "library": "var_list.py",
     "varRefreshCmd": "print(var_dic_list())"
    },
    "r": {
     "delete_cmd_postfix": ") ",
     "delete_cmd_prefix": "rm(",
     "library": "var_list.r",
     "varRefreshCmd": "cat(var_dic_list()) "
    }
   },
   "types_to_exclude": [
    "module",
    "function",
    "builtin_function_or_method",
    "instance",
    "_Feature"
   ],
   "window_display": false
  },
  "widgets": {
   "state": {
    "08ff23309088473cb370be9c8cc01eb3": {
     "views": [
      {
       "cell_index": 50
      }
     ]
    },
    "0f4cb30b5bbf45a3a2a69572761a64ec": {
     "views": [
      {
       "cell_index": 50
      }
     ]
    },
    "0fcaa86a6b1448ec803925b8a1084e8e": {
     "views": [
      {
       "cell_index": 47
      }
     ]
    },
    "1001fd7a72864ee0bc36481c9b16798a": {
     "views": [
      {
       "cell_index": 50
      }
     ]
    },
    "167dc4f4410c4617901edb8c20b53050": {
     "views": [
      {
       "cell_index": 47
      }
     ]
    },
    "1d989a217ea24920814d306887ad3aeb": {
     "views": [
      {
       "cell_index": 50
      }
     ]
    },
    "250d8252d5214d4993a1b63f021073bd": {
     "views": [
      {
       "cell_index": 49
      }
     ]
    },
    "2a2c52919ee34c83bdb5f816376bc084": {
     "views": [
      {
       "cell_index": 46
      }
     ]
    },
    "36f9aa3676b34910960aa651c1ff0c76": {
     "views": [
      {
       "cell_index": 42
      }
     ]
    },
    "3a0b759beb1a4eed92cb831d7f6f2abc": {
     "views": [
      {
       "cell_index": 50
      }
     ]
    },
    "559d070d0eac4c168d07523f3b09b06d": {
     "views": [
      {
       "cell_index": 47
      }
     ]
    },
    "581a6d51cd144c43aa4be946098c4ec4": {
     "views": [
      {
       "cell_index": 46
      }
     ]
    },
    "589f5556fbef4506a424ee95f85eb276": {
     "views": [
      {
       "cell_index": 50
      }
     ]
    },
    "5bfe3b91063b42dbbe31b2df80011318": {
     "views": [
      {
       "cell_index": 49
      }
     ]
    },
    "5dfd6c140c6a4855867a8d78413f9a43": {
     "views": [
      {
       "cell_index": 50
      }
     ]
    },
    "675b8ec812f846a1b95095d2e766dc7c": {
     "views": [
      {
       "cell_index": 49
      }
     ]
    },
    "695821c18eb74b57ae0b6b6b25906c99": {
     "views": [
      {
       "cell_index": 47
      }
     ]
    },
    "7327e2c3456a4e61998ac3eb6faf5390": {
     "views": [
      {
       "cell_index": 40
      }
     ]
    },
    "77668ad94c79457d8d23e1a24abaee52": {
     "views": [
      {
       "cell_index": 47
      }
     ]
    },
    "77a08b3a26af485aa71129d3c9f55df0": {
     "views": [
      {
       "cell_index": 46
      }
     ]
    },
    "82758381f9f44dd28b11f20a0d710a32": {
     "views": [
      {
       "cell_index": 46
      }
     ]
    },
    "8e956683c08e4a889b2963319b97f33b": {
     "views": [
      {
       "cell_index": 47
      }
     ]
    },
    "93f38e8a368d421ea780406bb02130c3": {
     "views": [
      {
       "cell_index": 49
      }
     ]
    },
    "968379ea66b94737af2b56500cb030ee": {
     "views": [
      {
       "cell_index": 49
      }
     ]
    },
    "9a56a88eacc942f59459ed786c3f7987": {
     "views": [
      {
       "cell_index": 50
      }
     ]
    },
    "9f45d2475dd14795b8116b1f0a89340b": {
     "views": [
      {
       "cell_index": 37
      }
     ]
    },
    "a0383d0cdcb5444aa305b6ceee2d0372": {
     "views": [
      {
       "cell_index": 46
      }
     ]
    },
    "ab7f633fa0a042e0b52e96528e3e939c": {
     "views": [
      {
       "cell_index": 49
      }
     ]
    },
    "abb001cd55f047b49bcb06b29e9bf447": {
     "views": [
      {
       "cell_index": 47
      }
     ]
    },
    "ae2ebb7ba72d4a10894096a7ea5f1eeb": {
     "views": [
      {
       "cell_index": 50
      }
     ]
    },
    "b6aff4d124d649859e86c9db7294db38": {
     "views": [
      {
       "cell_index": 50
      }
     ]
    },
    "b8fad1c141d04613b7ebc4e6f5c3749a": {
     "views": [
      {
       "cell_index": 50
      }
     ]
    },
    "bfcc3e2c474b43329172de715feb0fdc": {
     "views": [
      {
       "cell_index": 46
      }
     ]
    },
    "c1816890e5f94434856b0bb94c0b213a": {
     "views": [
      {
       "cell_index": 49
      }
     ]
    },
    "da46d456c68f4a83849190f9c43335d8": {
     "views": [
      {
       "cell_index": 47
      }
     ]
    },
    "e871cba43db34d9da51d586e3a7b80ac": {
     "views": [
      {
       "cell_index": 50
      }
     ]
    },
    "f16fbcc1a89e4530a4a8cec845b680c3": {
     "views": [
      {
       "cell_index": 47
      }
     ]
    },
    "f331535e374349c8b26ec8b3d714af85": {
     "views": [
      {
       "cell_index": 49
      }
     ]
    }
   },
   "version": "1.2.0"
  }
 },
 "nbformat": 4,
 "nbformat_minor": 1
}
